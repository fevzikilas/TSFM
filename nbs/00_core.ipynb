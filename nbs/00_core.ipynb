{
 "cells": [
  {
   "cell_type": "markdown",
   "metadata": {},
   "source": [
    "## Fevzi KILAS (aka niexche)\n",
    "Data Scienist and Ai resercher"
   ]
  },
  {
   "cell_type": "markdown",
   "metadata": {},
   "source": [
    "[niexche.github.io](https://niexche.github.io)\n",
    "\n",
    "[fevzikilas.tech](https://fevzikilas.github.io)\n",
    "\n",
    "[github.com/fevzikilas](https://github.com/fevzikilas)\n",
    "\n",
    "[huggingface.co/NIEXCHE](https://huggingface.co/NIEXCHE )"
   ]
  },
  {
   "cell_type": "markdown",
   "metadata": {},
   "source": [
    "<img src=\"https://media1.giphy.com/media/v1.Y2lkPTc5MGI3NjExcnNlMXozZXBwMXlhbng4d29oZDZkanhrazZ1OGcwNnR1ZW1mYWV5ZSZlcD12MV9pbnRlcm5hbF9naWZfYnlfaWQmY3Q9Zw/Rpl1sod1vCXK0L2SUN/giphy.gif\" style=\"width: 1200px; height: auto;\">"
   ]
  },
  {
   "cell_type": "raw",
   "metadata": {},
   "source": [
    "@niexche"
   ]
  }
 ],
 "metadata": {
  "kernelspec": {
   "display_name": "python3",
   "language": "python",
   "name": "python3"
  },
  "widgets": {
   "application/vnd.jupyter.widget-state+json": {
    "state": {},
    "version_major": 2,
    "version_minor": 0
   }
  }
 },
 "nbformat": 4,
 "nbformat_minor": 4
}
