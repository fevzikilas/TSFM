{
 "cells": [
  {
   "cell_type": "markdown",
   "metadata": {},
   "source": [
    "# Models"
   ]
  },
  {
   "cell_type": "markdown",
   "metadata": {},
   "source": [
    "# Time Series Forecasting Models @2024\n",
    "\n",
    "We will be examining some of the Time Series Forecasting Models that published in 2024.\n",
    "\n",
    "```@Fevzi KILAS(aka niexche)```"
   ]
  },
  {
   "cell_type": "code",
   "execution_count": null,
   "metadata": {},
   "outputs": [],
   "source": [
    "# Currently there are 168 models. Implementation will start from best models.\n",
    "# Explanations will take time. Thank you for patient. "
   ]
  },
  {
   "cell_type": "markdown",
   "metadata": {},
   "source": [
    "## Time Series Forecasting Models\n",
    "\n",
    "> Stochastic Models\n",
    ">- Moving Average (MA) Model \n",
    ">- Autoregressive (AR) Model \n",
    ">- Autoregressive Moving Average (ARMA) Model \n",
    ">- Autoregressive Integrated Moving Average (ARIMA) Model \n",
    ">- Seasonal ARIMA (SARIMA) Model\n",
    ">- Exponential Smoothing Models \n",
    ">- Vector Autoregression (VAR) Model: \n",
    ">- Vector Autoregression Moving-Average (VARMA) Model \n",
    ">- Vector Autoregression Moving-Average with Exogenous Regressors (VARMAX) Model \n",
    ">- Seasonal Decomposition of Time Series (STL) Model \n",
    ">- Seasonal-Trend decomposition using LOESS (STL) Model \n",
    ">- Seasonal-Trend decomposition using LOESS with ARIMA errors (STL-ARIMA) Model \n",
    ">- Seasonal-Trend decomposition using LOESS with Exogenous Regressors (STL-X) Model \n",
    ">- Seasonal-Trend decomposition using LOESS with ARIMA errors and Exogenous Regressors (STL-ARIMA-X) Model \n",
    ">\n",
    ">> ML Models\n",
    ">- RNN and LSTM Networks \n",
    ">- CNN Networks\n",
    ">- Encoder-Decoder Networks\n",
    ">- Attention Networks\n",
    ">- Transformer Networks\n",
    ">- WaveNet Networks\n",
    ">- TCN Networks\n",
    ">- DeepAR Networks\n",
    ">- DeepState Networks\n",
    ">- DeepFactor Networks\n",
    ">\n",
    ">> Evaluation Metrics\n",
    ">- Mean Absolute Error (MAE)\n",
    ">- Mean Squared Error (MSE)\n",
    ">- Root Mean Squared Error (RMSE)\n",
    ">- Mean Absolute Percentage Error (MAPE)\n",
    ">- Symmetric Mean Absolute Percentage Error (SMAPE)\n",
    ">- Mean Absolute Scaled Error (MASE)\n",
    ">- Theil’s U Statistic\n",
    ">- R2 Score\n",
    ">- Adjusted R2 Score\n",
    ">- Akaike Information Criterion (AIC)\n",
    ">- Bayesian Information Criterion (BIC)\n",
    ">- Mean Forecast Error (MFE)\n",
    ">- Mean Absolute Deviation (MAD)\n",
    ">- Tracking Signal (TS)\n",
    ">- Forecast Bias\n",
    ">- Forecast Accuracy\n",
    ">- Forecast Precision\n",
    ">- Forecast Recall\n",
    ">- Forecast F1 Score\n",
    ">- Forecast ROC AUC Score\n",
    ">- Forecast PR AUC Score\n",
    ">- Forecast Confusion Matrix\n",
    ">- Forecast Classification Report\n",
    ">- Forecast ROC Curve\n",
    ">- Forecast PR Curve\n",
    ">- Forecast Calibration Curve\n",
    ">- Forecast Learning Curve\n",
    ">- Forecast Residuals Plot\n",
    ">- Forecast Residuals Density Plot\n",
    ">- Forecast Residuals Distribution Plot\n",
    ">- Forecast Residuals Q-Q Plot\n",
    ">- Forecast Residuals Autocorrelation Plot\n",
    ">- Forecast Residuals Partial Autocorrelation Plot\n",
    ">- Forecast Residuals Lag Plot\n",
    ">- Forecast Residuals Scatter Plot\n",
    ">- Forecast Residuals vs. Time Plot\n",
    ">- Forecast Residuals vs. Predicted Plot\n",
    ">- Forecast Residuals vs. Actual Plot\n",
    ">- Forecast Residuals vs. Forecast Plot\n",
    ">- Forecast Residuals vs. Error Plot\n",
    ">- Forecast Residuals vs. Squared Error Plot\n",
    ">- Forecast Residuals vs. Absolute Error Plot\n",
    ">- Forecast Residuals vs. Absolute Percentage Error Plot\n",
    "\n",
    "\n",
    "\n",
    "\n",
    "\n",
    "\n",
    "\n",
    "\n",
    "\n",
    "\n",
    "\n"
   ]
  },
  {
   "cell_type": "markdown",
   "metadata": {},
   "source": [
    "\n",
    "## PatchTST: A Time Series is Worth 64 Words: Long-term Forecasting with Transformers\n",
    "\n",
    "\n",
    "17 Apr 2024 \n",
    "\n",
    "[Paper Link](https://arxiv.org/abs/2211.14730)\n",
    "\n",
    "[Implementation Link](https://huggingface.co/Salesforce/moirai-1.0-R-large)\n",
    "\n",
    "---------------"
   ]
  },
  {
   "cell_type": "code",
   "execution_count": null,
   "metadata": {},
   "outputs": [],
   "source": []
  },
  {
   "cell_type": "markdown",
   "metadata": {},
   "source": [
    "\n",
    "## TimesFM: A decoder-only foundation model for time-series forecasting \n",
    "\n",
    "17 Apr 2024 \n",
    "\n",
    "[Paper Link](https://arxiv.org/abs/2310.10688)\n",
    "\n",
    "[Implementation Link](https://github.com/google-research/timesfm)\n",
    "\n",
    "---------------"
   ]
  },
  {
   "cell_type": "code",
   "execution_count": null,
   "metadata": {},
   "outputs": [],
   "source": []
  },
  {
   "cell_type": "markdown",
   "metadata": {},
   "source": [
    "\n",
    "## Chronos: Learning the Language of Time Series \n",
    "\n",
    "12 Mar 2024 \n",
    "\n",
    "[Paper Link](https://arxiv.org/abs/2403.07815)\n",
    "\n",
    "[Implementation Link](https://github.com/amazon-science/chronos-forecasting)\n",
    "\n",
    "---------------"
   ]
  },
  {
   "cell_type": "code",
   "execution_count": null,
   "metadata": {},
   "outputs": [],
   "source": []
  },
  {
   "cell_type": "markdown",
   "metadata": {},
   "source": [
    "\n",
    "## iTransformer: Inverted Transformers Are Effective for Time Series Forecasting \n",
    "\n",
    "14 Mar 2024 \n",
    "\n",
    "[Paper Link](https://arxiv.org/abs/2310.06625)\n",
    "\n",
    "[Implementation Link](https://github.com/thuml/iTransformer)\n",
    "\n",
    "---------------"
   ]
  },
  {
   "cell_type": "code",
   "execution_count": null,
   "metadata": {},
   "outputs": [],
   "source": []
  },
  {
   "cell_type": "markdown",
   "metadata": {},
   "source": [
    "\n",
    "## TimeMixer: Decomposable Multiscale Mixing for Time Series Forecasting \n",
    "\n",
    "23 May 2024 \n",
    "\n",
    "[Paper Link](https://arxiv.org/abs/2405.14616)\n",
    "\n",
    "[Implementation Link](https://github.com/kwuking/TimeMixer)\n",
    "\n",
    "---------------"
   ]
  },
  {
   "cell_type": "code",
   "execution_count": null,
   "metadata": {},
   "outputs": [],
   "source": []
  },
  {
   "cell_type": "markdown",
   "metadata": {},
   "source": [
    "\n",
    "## Lag-Llama: Towards Foundation Models for Probabilistic Time Series Forecasting \n",
    "\n",
    "08 Feb 2024 \n",
    "\n",
    "[Paper Link](https://arxiv.org/abs/2310.08278)\n",
    "\n",
    "[Implementation Link](https://github.com/time-series-foundation-models/lag-llama)\n",
    "\n",
    "---------------"
   ]
  },
  {
   "cell_type": "code",
   "execution_count": null,
   "metadata": {},
   "outputs": [],
   "source": []
  },
  {
   "cell_type": "markdown",
   "metadata": {},
   "source": [
    "\n",
    "## Unified Training of Universal Time Series Forecasting Transformers \n",
    "\n",
    "04 Feb 2024 \n",
    "\n",
    "[Paper Link](https://arxiv.org/abs/2402.02592)\n",
    "\n",
    "[Implementation Link](https://github.com/SalesforceAIResearch/uni2ts)\n",
    "\n",
    "---------------"
   ]
  },
  {
   "cell_type": "code",
   "execution_count": null,
   "metadata": {},
   "outputs": [],
   "source": []
  },
  {
   "cell_type": "markdown",
   "metadata": {},
   "source": [
    "\n",
    "## A Survey on Diffusion Models for Time Series and Spatio-Temporal Data \n",
    "\n",
    "11 Jun 2024 \n",
    "\n",
    "[Paper Link](https://arxiv.org/abs/2404.18886)\n",
    "\n",
    "[Implementation Link](https://github.com/yyysjz1997/awesome-timeseries-spatiotemporal-diffusion-model)\n",
    "\n",
    "---------------"
   ]
  },
  {
   "cell_type": "code",
   "execution_count": null,
   "metadata": {},
   "outputs": [],
   "source": []
  },
  {
   "cell_type": "markdown",
   "metadata": {},
   "source": [
    "\n",
    "## UniTS: Building a Unified Time Series Model \n",
    "\n",
    "29 Feb 2024 \n",
    "\n",
    "[Paper Link](https://arxiv.org/abs/2403.00131)\n",
    "\n",
    "[Implementation Link](https://github.com/mims-harvard/UniTS)\n",
    "\n",
    "---------------"
   ]
  },
  {
   "cell_type": "code",
   "execution_count": null,
   "metadata": {},
   "outputs": [],
   "source": []
  },
  {
   "cell_type": "markdown",
   "metadata": {},
   "source": [
    "\n",
    "## Tiny Time Mixers (TTMs): Fast Pre-trained Models for Enhanced Zero/Few-Shot Forecasting of Multivariate Time Series \n",
    "\n",
    "09 Apr 2024 \n",
    "\n",
    "[Paper Link](https://arxiv.org/abs/2401.03955)\n",
    "\n",
    "[Implementation Link](https://github.com/ibm-granite/granite-tsfm)\n",
    "\n",
    "---------------"
   ]
  },
  {
   "cell_type": "code",
   "execution_count": null,
   "metadata": {},
   "outputs": [],
   "source": []
  },
  {
   "cell_type": "markdown",
   "metadata": {},
   "source": [
    "-----\n",
    "#### Buraya kadar incele sonrasi date order\n",
    "-----\n"
   ]
  },
  {
   "cell_type": "markdown",
   "metadata": {},
   "source": [
    "\n",
    "## Disentangled Interpretable Representation for Efficient Long-term Time Series Forecasting \n",
    "\n",
    "Long Term TSF\n",
    "\n",
    "DiPE-Linear incorporates three temporal components: \n",
    "- Static Frequential Attention (SFA): Extracts and enhances prominent frequencies in the frequency domain.\n",
    "- Static Temporal Attention (STA): Selects input time points in the time domain that are strongly correlated with the predicted sequence.\n",
    "- Independent Frequential Mapping (IFM): Assumes independence across different frequencies and directly maps the input series to the output series at each frequency component in frequency domain.\n",
    "\n",
    "These components alternate between learning in the frequency and time domains to achieve disentangled inter-pretability. \n",
    "\n",
    "\n",
    "26 Nov 2024 \n",
    "\n",
    "[Paper Link](https://arxiv.org/abs/2411.17257)\n",
    "\n",
    "[Implementation Link](https://github.com/wintertee/dipe-linear)\n",
    "\n",
    "---------------"
   ]
  },
  {
   "cell_type": "code",
   "execution_count": null,
   "metadata": {},
   "outputs": [],
   "source": []
  },
  {
   "cell_type": "markdown",
   "metadata": {},
   "source": [
    "\n",
    "## Rethinking the Power of Timestamps for Robust Time Series Forecasting: A Global-Local Fusion Perspective \n",
    "\n",
    "13 Nov 2024 \n",
    "\n",
    "[Paper Link](https://arxiv.org/abs/2409.18696)\n",
    "\n",
    "[Implementation Link](https://github.com/ForestsKing/GLAFF)\n",
    "\n",
    "---------------"
   ]
  },
  {
   "cell_type": "code",
   "execution_count": null,
   "metadata": {},
   "outputs": [],
   "source": []
  },
  {
   "cell_type": "markdown",
   "metadata": {},
   "source": [
    "\n",
    "## EffiCANet: Efficient Time Series Forecasting with Convolutional Attention \n",
    "\n",
    "07 Nov 2024 \n",
    "\n",
    "[Paper Link](https://arxiv.org/abs/2411.04669)\n",
    "\n",
    "---------------"
   ]
  },
  {
   "cell_type": "code",
   "execution_count": null,
   "metadata": {},
   "outputs": [],
   "source": []
  },
  {
   "cell_type": "markdown",
   "metadata": {},
   "source": [
    "\n",
    "## Peri-midFormer: Periodic Pyramid Transformer for Time Series Analysis \n",
    "\n",
    "07 Nov 2024 \n",
    "\n",
    "[Paper Link](https://arxiv.org/abs/2411.04554)\n",
    "\n",
    "[Implementation Link](https://github.com/WuQiangXDU/Peri-midFormer)\n",
    "\n",
    "---------------"
   ]
  },
  {
   "cell_type": "code",
   "execution_count": null,
   "metadata": {},
   "outputs": [],
   "source": []
  },
  {
   "cell_type": "markdown",
   "metadata": {},
   "source": [
    "\n",
    "## From Similarity to Superiority: Channel Clustering for Time Series Forecasting \n",
    "\n",
    "06 Nov 2024 \n",
    "\n",
    "[Paper Link](https://arxiv.org/abs/2404.01340)\n",
    "\n",
    "[Implementation Link](https://github.com/graph-and-geometric-learning/timeseriesccm)\n",
    "\n",
    "---------------"
   ]
  },
  {
   "cell_type": "code",
   "execution_count": null,
   "metadata": {},
   "outputs": [],
   "source": []
  },
  {
   "cell_type": "markdown",
   "metadata": {},
   "source": [
    "\n",
    "## A Mamba Foundation Model for Time Series Forecasting \n",
    "\n",
    "05 Nov 2024 \n",
    "\n",
    "[Paper Link](https://arxiv.org/abs/2411.02941)\n",
    "\n",
    "---------------"
   ]
  },
  {
   "cell_type": "code",
   "execution_count": null,
   "metadata": {},
   "outputs": [],
   "source": []
  },
  {
   "cell_type": "markdown",
   "metadata": {},
   "source": [
    "\n",
    "## Cross-Domain Pre-training with Language Models for Transferable Time Series Representations \n",
    "\n",
    "05 Nov 2024 \n",
    "\n",
    "[Paper Link](https://arxiv.org/abs/2403.12372)\n",
    "\n",
    "[Implementation Link](https://github.com/mingyue-cheng/crosstimenet)\n",
    "\n",
    "---------------"
   ]
  },
  {
   "cell_type": "code",
   "execution_count": null,
   "metadata": {},
   "outputs": [],
   "source": []
  },
  {
   "cell_type": "markdown",
   "metadata": {},
   "source": [
    "\n",
    "## ElasTST: Towards Robust Varied-Horizon Forecasting with Elastic Time-Series Transformer \n",
    "\n",
    "04 Nov 2024 \n",
    "\n",
    "[Paper Link](https://arxiv.org/abs/2411.01842)\n",
    "\n",
    "[Implementation Link](https://github.com/microsoft/ProbTS/tree/elastst)\n",
    "\n",
    "---------------"
   ]
  },
  {
   "cell_type": "code",
   "execution_count": null,
   "metadata": {},
   "outputs": [],
   "source": []
  },
  {
   "cell_type": "markdown",
   "metadata": {},
   "source": [
    "\n",
    "## FilterNet: Harnessing Frequency Filters for Time Series Forecasting \n",
    "\n",
    "03 Nov 2024 \n",
    "\n",
    "[Paper Link](https://arxiv.org/abs/2411.01623)\n",
    "\n",
    "[Implementation Link](https://github.com/aikunyi/filternet)\n",
    "\n",
    "---------------"
   ]
  },
  {
   "cell_type": "code",
   "execution_count": null,
   "metadata": {},
   "outputs": [],
   "source": []
  },
  {
   "cell_type": "markdown",
   "metadata": {},
   "source": [
    "\n",
    "## Ada-MSHyper: Adaptive Multi-Scale Hypergraph Transformer for Time Series Forecasting \n",
    "\n",
    "31 Oct 2024 \n",
    "\n",
    "[Paper Link](https://arxiv.org/abs/2410.23992)\n",
    "\n",
    "[Implementation Link](https://github.com/shangzongjiang/Ada-MSHyper)\n",
    "\n",
    "---------------"
   ]
  },
  {
   "cell_type": "code",
   "execution_count": null,
   "metadata": {},
   "outputs": [],
   "source": []
  },
  {
   "cell_type": "markdown",
   "metadata": {},
   "source": [
    "\n",
    "## FlexTSF: A Universal Forecasting Model for Time Series with Variable Regularities \n",
    "\n",
    "30 Oct 2024 \n",
    "\n",
    "[Paper Link](https://arxiv.org/abs/2410.23160)\n",
    "\n",
    "[Implementation Link](https://github.com/jingge326/flextsf)\n",
    "\n",
    "---------------"
   ]
  },
  {
   "cell_type": "code",
   "execution_count": null,
   "metadata": {},
   "outputs": [],
   "source": []
  },
  {
   "cell_type": "markdown",
   "metadata": {},
   "source": [
    "\n",
    "## From News to Forecast: Integrating Event Analysis in LLM-Based Time Series Forecasting with Reflection \n",
    "\n",
    "30 Oct 2024 \n",
    "\n",
    "[Paper Link](https://arxiv.org/abs/2409.17515)\n",
    "\n",
    "[Implementation Link](https://github.com/ameliawong1996/From_News_to_Forecast)\n",
    "\n",
    "---------------"
   ]
  },
  {
   "cell_type": "code",
   "execution_count": null,
   "metadata": {},
   "outputs": [],
   "source": []
  },
  {
   "cell_type": "markdown",
   "metadata": {},
   "source": [
    "\n",
    "## Parsimony or Capability? Decomposition Delivers Both in Long-term Time Series Forecasting \n",
    "\n",
    "16 Oct 2024 \n",
    "\n",
    "[Paper Link](https://arxiv.org/abs/2401.11929)\n",
    "\n",
    "---------------"
   ]
  },
  {
   "cell_type": "code",
   "execution_count": null,
   "metadata": {},
   "outputs": [],
   "source": []
  },
  {
   "cell_type": "markdown",
   "metadata": {},
   "source": [
    "\n",
    "## Towards Neural Scaling Laws for Time Series Foundation Models \n",
    "\n",
    "16 Oct 2024 \n",
    "\n",
    "[Paper Link](https://arxiv.org/abs/2410.12360)\n",
    "\n",
    "---------------"
   ]
  },
  {
   "cell_type": "code",
   "execution_count": null,
   "metadata": {},
   "outputs": [],
   "source": []
  },
  {
   "cell_type": "markdown",
   "metadata": {},
   "source": [
    "\n",
    "## FoundTS: Comprehensive and Unified Benchmarking of Foundation Models for Time Series Forecasting \n",
    "\n",
    "15 Oct 2024 \n",
    "\n",
    "[Paper Link](https://arxiv.org/abs/2410.11802)\n",
    "\n",
    "---------------"
   ]
  },
  {
   "cell_type": "code",
   "execution_count": null,
   "metadata": {},
   "outputs": [],
   "source": []
  },
  {
   "cell_type": "markdown",
   "metadata": {},
   "source": [
    "\n",
    "## LLM-Mixer: Multiscale Mixing in LLMs for Time Series Forecasting \n",
    "\n",
    "15 Oct 2024 \n",
    "\n",
    "[Paper Link](https://arxiv.org/abs/2410.11674)\n",
    "\n",
    "[Implementation Link](https://github.com/Kowsher/LLMMixer)\n",
    "\n",
    "---------------"
   ]
  },
  {
   "cell_type": "code",
   "execution_count": null,
   "metadata": {},
   "outputs": [],
   "source": []
  },
  {
   "cell_type": "markdown",
   "metadata": {},
   "source": [
    "\n",
    "## Moirai-MoE: Empowering Time Series Foundation Models with Sparse Mixture of Experts \n",
    "\n",
    "14 Oct 2024 \n",
    "\n",
    "[Paper Link](https://arxiv.org/abs/2410.10469)\n",
    "\n",
    "[Implementation Link](https://github.com/SalesforceAIResearch/uni2ts/tree/main/project/moirai-moe-1)\n",
    "\n",
    "---------------"
   ]
  },
  {
   "cell_type": "code",
   "execution_count": null,
   "metadata": {},
   "outputs": [],
   "source": []
  },
  {
   "cell_type": "markdown",
   "metadata": {},
   "source": [
    "\n",
    "## Are Self-Attentions Effective for Time Series Forecasting? \n",
    "\n",
    "12 Oct 2024 \n",
    "\n",
    "[Paper Link](https://arxiv.org/abs/2405.16877)\n",
    "\n",
    "[Implementation Link](https://github.com/dongbeank/cats)\n",
    "\n",
    "---------------"
   ]
  },
  {
   "cell_type": "code",
   "execution_count": null,
   "metadata": {},
   "outputs": [],
   "source": []
  },
  {
   "cell_type": "markdown",
   "metadata": {},
   "source": [
    "\n",
    "## Mamba4Cast: Efficient Zero-Shot Time Series Forecasting with State Space Models \n",
    "\n",
    "12 Oct 2024 \n",
    "\n",
    "[Paper Link](https://arxiv.org/abs/2410.09385)\n",
    "\n",
    "[Implementation Link](https://github.com/automl/mamba4cast)\n",
    "\n",
    "---------------"
   ]
  },
  {
   "cell_type": "code",
   "execution_count": null,
   "metadata": {},
   "outputs": [],
   "source": []
  },
  {
   "cell_type": "markdown",
   "metadata": {},
   "source": [
    "\n",
    "## TimeBridge: Non-Stationarity Matters for Long-term Time Series Forecasting \n",
    "\n",
    "12 Oct 2024 \n",
    "\n",
    "[Paper Link](https://arxiv.org/abs/2410.04442)\n",
    "\n",
    "[Implementation Link](https://github.com/hank0626/timebridge)\n",
    "\n",
    "---------------"
   ]
  },
  {
   "cell_type": "code",
   "execution_count": null,
   "metadata": {},
   "outputs": [],
   "source": []
  },
  {
   "cell_type": "markdown",
   "metadata": {},
   "source": [
    "\n",
    "## Time-FFM: Towards LM-Empowered Federated Foundation Model for Time Series Forecasting \n",
    "\n",
    "08 Oct 2024 \n",
    " \n",
    "[Paper Link](https://arxiv.org/abs/2405.14252)\n",
    "\n",
    "---------------"
   ]
  },
  {
   "cell_type": "code",
   "execution_count": null,
   "metadata": {},
   "outputs": [],
   "source": []
  },
  {
   "cell_type": "markdown",
   "metadata": {},
   "source": [
    "\n",
    "## Timer-XL: Long-Context Transformers for Unified Time Series Forecasting  \n",
    "\n",
    "07 Oct 2024 \n",
    "\n",
    "[Paper Link](https://arxiv.org/abs/2410.04803)\n",
    "\n",
    "---------------"
   ]
  },
  {
   "cell_type": "code",
   "execution_count": null,
   "metadata": {},
   "outputs": [],
   "source": []
  },
  {
   "cell_type": "markdown",
   "metadata": {},
   "source": [
    "\n",
    "## Autoregressive Moving-average Attention Mechanism for Time Series Forecasting \n",
    "\n",
    "04 Oct 2024 \n",
    "\n",
    "[Paper Link](https://arxiv.org/abs/2410.03159)\n",
    "\n",
    "[Implementation Link](https://github.com/ljc-fvnr/arma-attention)\n",
    "\n",
    "---------------"
   ]
  },
  {
   "cell_type": "code",
   "execution_count": null,
   "metadata": {},
   "outputs": [],
   "source": []
  },
  {
   "cell_type": "markdown",
   "metadata": {},
   "source": [
    "\n",
    "## NuwaTS: a Foundation Model Mending Every Incomplete Time Series \n",
    "\n",
    "02 Oct 2024 \n",
    "\n",
    "[Paper Link](https://arxiv.org/abs/2405.15317)\n",
    "\n",
    "[Implementation Link](https://github.com/chengyui/nuwats)\n",
    "\n",
    "---------------"
   ]
  },
  {
   "cell_type": "code",
   "execution_count": null,
   "metadata": {},
   "outputs": [],
   "source": []
  },
  {
   "cell_type": "markdown",
   "metadata": {},
   "source": [
    "\n",
    "## Frequency Adaptive Normalization For Non-stationary Time Series Forecasting \n",
    "\n",
    "30 Sep 2024 \n",
    "\n",
    "[Paper Link](https://arxiv.org/abs/2409.20371)\n",
    "\n",
    "[Implementation Link](https://github.com/wayne155/FAN)\n",
    "\n",
    "---------------"
   ]
  },
  {
   "cell_type": "code",
   "execution_count": null,
   "metadata": {},
   "outputs": [],
   "source": []
  },
  {
   "cell_type": "markdown",
   "metadata": {},
   "source": [
    "\n",
    "## Evolving Multi-Scale Normalization for Time Series Forecasting under Distribution Shifts \n",
    "\n",
    "29 Sep 2024 \n",
    "\n",
    "[Paper Link](https://arxiv.org/abs/2409.19718)\n",
    "\n",
    "[Implementation Link](https://github.com/qindalin/evomsn)\n",
    "\n",
    "---------------"
   ]
  },
  {
   "cell_type": "code",
   "execution_count": null,
   "metadata": {},
   "outputs": [],
   "source": []
  },
  {
   "cell_type": "markdown",
   "metadata": {},
   "source": [
    "\n",
    "## CycleNet: Enhancing Time Series Forecasting through Modeling Periodic Patterns \n",
    "\n",
    "27 Sep 2024 \n",
    "\n",
    "[Paper Link](https://arxiv.org/abs/2409.18479)\n",
    "\n",
    "[Implementation Link](https://github.com/ACAT-SCUT/CycleNet)\n",
    "\n",
    "---------------"
   ]
  },
  {
   "cell_type": "code",
   "execution_count": null,
   "metadata": {},
   "outputs": [],
   "source": []
  },
  {
   "cell_type": "markdown",
   "metadata": {},
   "source": [
    "\n",
    "## Double-Path Adaptive-correlation Spatial-Temporal Inverted Transformer for Stock Time Series Forecasting \n",
    "\n",
    "24 Sep 2024 \n",
    "\n",
    "[Paper Link](https://arxiv.org/abs/2409.15662)\n",
    "\n",
    "---------------"
   ]
  },
  {
   "cell_type": "code",
   "execution_count": null,
   "metadata": {},
   "outputs": [],
   "source": []
  },
  {
   "cell_type": "markdown",
   "metadata": {},
   "source": [
    "\n",
    "## Time-MoE: Billion-Scale Time Series Foundation Models with Mixture of Experts \n",
    "\n",
    "24 Sep 2024 \n",
    "\n",
    "[Paper Link](https://arxiv.org/abs/2409.16040)\n",
    "\n",
    "[Implementation Link](https://github.com/time-moe/time-moe)\n",
    "\n",
    "---------------"
   ]
  },
  {
   "cell_type": "code",
   "execution_count": null,
   "metadata": {},
   "outputs": [],
   "source": []
  },
  {
   "cell_type": "markdown",
   "metadata": {},
   "source": [
    "\n",
    "## VisionTS: Visual Masked Autoencoders Are Free-Lunch Zero-Shot Time Series Forecasters \n",
    "\n",
    "30 Aug 2024 \n",
    "\n",
    "[Paper Link](https://arxiv.org/abs/2408.17253)\n",
    "\n",
    "[Implementation Link](https://github.com/keytoyze/visionts)\n",
    "\n",
    "---------------"
   ]
  },
  {
   "cell_type": "code",
   "execution_count": null,
   "metadata": {},
   "outputs": [],
   "source": []
  },
  {
   "cell_type": "markdown",
   "metadata": {},
   "source": [
    "\n",
    "## Mamba or Transformer for Time Series Forecasting? Mixture of Universals (MoU) Is All You Need \n",
    "\n",
    "28 Aug 2024\n",
    "\n",
    "[Paper Link](https://www.arxiv.org/abs/2408.15997)\n",
    "\n",
    "[Implementation Link](https://github.com/lunaaa95/mou)\n",
    "\n",
    "---------------"
   ]
  },
  {
   "cell_type": "code",
   "execution_count": null,
   "metadata": {},
   "outputs": [],
   "source": []
  },
  {
   "cell_type": "markdown",
   "metadata": {},
   "source": [
    "\n",
    "## PRformer: Pyramidal Recurrent Transformer for Multivariate Time Series Forecasting \n",
    "\n",
    "20 Aug 2024 \n",
    "\n",
    "[Paper Link](https://arxiv.org/abs/2408.10483)\n",
    "\n",
    "[Implementation Link](https://github.com/usualheart/prformer)\n",
    "\n",
    "---------------"
   ]
  },
  {
   "cell_type": "code",
   "execution_count": null,
   "metadata": {},
   "outputs": [],
   "source": []
  },
  {
   "cell_type": "markdown",
   "metadata": {},
   "source": [
    "\n",
    "## Rethinking Channel Dependence for Multivariate Time Series Forecasting: Learning from Leading Indicators \n",
    "\n",
    "13 Aug 2024 \n",
    "\n",
    "[Paper Link](https://arxiv.org/abs/2401.17548)\n",
    "\n",
    "[Implementation Link](https://github.com/sjtu-dmtai/lift)\n",
    "\n",
    "---------------"
   ]
  },
  {
   "cell_type": "code",
   "execution_count": null,
   "metadata": {},
   "outputs": [],
   "source": []
  },
  {
   "cell_type": "markdown",
   "metadata": {},
   "source": [
    "\n",
    "## Bidirectional Generative Pre-training for Improving Time Series Representation Learning \n",
    "\n",
    "11 Aug 2024 \n",
    "\n",
    "[Paper Link](https://arxiv.org/abs/2402.09558)\n",
    "\n",
    "[Implementation Link](https://github.com/li-lab-mcgill/bitimelygpt)\n",
    "\n",
    "---------------"
   ]
  },
  {
   "cell_type": "code",
   "execution_count": null,
   "metadata": {},
   "outputs": [],
   "source": []
  },
  {
   "cell_type": "markdown",
   "metadata": {},
   "source": [
    "\n",
    "## Scalable Transformer for High Dimensional Multivariate Time Series Forecasting \n",
    "\n",
    "08 Aug 2024 \n",
    "\n",
    "[Paper Link](https://arxiv.org/abs/2408.04245)\n",
    "\n",
    "[Implementation Link](https://github.com/xinzzzhou/scalabletransformer4highdimensionmtsf)\n",
    "\n",
    "---------------"
   ]
  },
  {
   "cell_type": "code",
   "execution_count": null,
   "metadata": {},
   "outputs": [],
   "source": []
  },
  {
   "cell_type": "markdown",
   "metadata": {},
   "source": [
    "\n",
    "## RHiOTS: A Framework for Evaluating Hierarchical Time Series Forecasting Algorithms \n",
    "\n",
    "06 Aug 2024\n",
    "\n",
    "[Paper Link](https://www.arxiv.org/abs/2408.03399)\n",
    "\n",
    "[Implementation Link](https://github.com/luisroque/robustness_hierarchical_time_series_forecasting_algorithms)\n",
    "\n",
    "---------------"
   ]
  },
  {
   "cell_type": "code",
   "execution_count": null,
   "metadata": {},
   "outputs": [],
   "source": []
  },
  {
   "cell_type": "markdown",
   "metadata": {},
   "source": [
    "\n",
    "## Fine-grained Attention in Hierarchical Transformers for Tabular Time-series \n",
    "\n",
    "02 Aug 2024 \n",
    "\n",
    "[Paper Link](https://arxiv.org/abs/2406.15327)\n",
    "\n",
    "[Implementation Link](https://github.com/raphaaal/fieldy)\n",
    "\n",
    "---------------"
   ]
  },
  {
   "cell_type": "code",
   "execution_count": null,
   "metadata": {},
   "outputs": [],
   "source": []
  },
  {
   "cell_type": "markdown",
   "metadata": {},
   "source": [
    "\n",
    "## DAM: Towards A Foundation Model for Time Series Forecasting \n",
    "\n",
    "25 Jul 2024 \n",
    "\n",
    "[Paper Link](https://arxiv.org/abs/2407.17880)\n",
    "\n",
    "---------------"
   ]
  },
  {
   "cell_type": "code",
   "execution_count": null,
   "metadata": {},
   "outputs": [],
   "source": []
  },
  {
   "cell_type": "markdown",
   "metadata": {},
   "source": [
    "\n",
    "## A Survey of Explainable Artificial Intelligence (XAI) in Financial Time Series Forecasting \n",
    "\n",
    "22 Jul 2024 \n",
    "\n",
    "[Paper Link](https://arxiv.org/abs/2407.15909)\n",
    "\n",
    "---------------"
   ]
  },
  {
   "cell_type": "code",
   "execution_count": null,
   "metadata": {},
   "outputs": [],
   "source": []
  },
  {
   "cell_type": "markdown",
   "metadata": {},
   "source": [
    "\n",
    "## Deep Functional Factor Models: Forecasting High-Dimensional Functional Time Series via Bayesian Nonparametric Factorization \n",
    "\n",
    "18 Jul 2024 \n",
    "\n",
    "[Paper Link](https://arxiv.org/abs/2305.14543)\n",
    "\n",
    "[Implementation Link](https://github.com/yiruiliu110/df2m)\n",
    "\n",
    "---------------"
   ]
  },
  {
   "cell_type": "code",
   "execution_count": null,
   "metadata": {},
   "outputs": [],
   "source": []
  },
  {
   "cell_type": "markdown",
   "metadata": {},
   "source": [
    "\n",
    "## Deep Time Series Models: A Comprehensive Survey and Benchmark \n",
    "\n",
    "18 Jul 2024 \n",
    "\n",
    "[Paper Link](https://arxiv.org/abs/2407.13278)\n",
    "\n",
    "[Implementation Link](https://github.com/thuml/Time-Series-Library)\n",
    "\n",
    "---------------"
   ]
  },
  {
   "cell_type": "code",
   "execution_count": null,
   "metadata": {},
   "outputs": [],
   "source": []
  },
  {
   "cell_type": "markdown",
   "metadata": {},
   "source": [
    "\n",
    "## Large Pre-trained time series models for cross-domain Time series analysis tasks \n",
    "\n",
    "11 Jul 2024 \n",
    "\n",
    "[Paper Link](https://arxiv.org/abs/2311.11413)\n",
    "\n",
    "---------------"
   ]
  },
  {
   "cell_type": "code",
   "execution_count": null,
   "metadata": {},
   "outputs": [],
   "source": []
  },
  {
   "cell_type": "markdown",
   "metadata": {},
   "source": [
    "\n",
    "## Loss Shaping Constraints for Long-Term Time Series Forecasting \n",
    "\n",
    "11 Jul 2024 \n",
    "\n",
    "[Paper Link](https://arxiv.org/abs/2402.09373)\n",
    "\n",
    "---------------"
   ]
  },
  {
   "cell_type": "code",
   "execution_count": null,
   "metadata": {},
   "outputs": [],
   "source": []
  },
  {
   "cell_type": "markdown",
   "metadata": {},
   "source": [
    "\n",
    "## ViTime: A Visual Intelligence-Based Foundation Model for Time Series Forecasting \n",
    "\n",
    "10 Jul 2024 \n",
    "\n",
    "[Paper Link](https://arxiv.org/abs/2407.07311)\n",
    "\n",
    "[Implementation Link](https://github.com/IkeYang/ViTime)\n",
    "\n",
    "---------------"
   ]
  },
  {
   "cell_type": "code",
   "execution_count": null,
   "metadata": {},
   "outputs": [],
   "source": []
  },
  {
   "cell_type": "markdown",
   "metadata": {},
   "source": [
    "\n",
    "## S2IP-LLM: Semantic Space Informed Prompt Learning with LLM for Time Series Forecasting \n",
    "\n",
    "07 Jul 2024 \n",
    "\n",
    "[Paper Link](https://arxiv.org/abs/2403.05798)\n",
    "\n",
    "[Implementation Link](https://github.com/panzijie825/s2ip-llm)\n",
    "\n",
    "---------------"
   ]
  },
  {
   "cell_type": "code",
   "execution_count": null,
   "metadata": {},
   "outputs": [],
   "source": []
  },
  {
   "cell_type": "markdown",
   "metadata": {},
   "source": [
    "\n",
    "## Fredformer: Frequency Debiased Transformer for Time Series Forecasting \n",
    "\n",
    "03 Jul 2024 \n",
    "\n",
    "[Paper Link](https://arxiv.org/abs/2406.09009)\n",
    "\n",
    "[Implementation Link](https://github.com/chenzrg/fredformer)\n",
    "\n",
    "---------------"
   ]
  },
  {
   "cell_type": "code",
   "execution_count": null,
   "metadata": {},
   "outputs": [],
   "source": []
  },
  {
   "cell_type": "markdown",
   "metadata": {},
   "source": [
    "\n",
    "## Revitalizing Multivariate Time Series Forecasting: Learnable Decomposition with Inter-Series Dependencies and Intra-Series Variations Modeling \n",
    "\n",
    "01 Jul 2024 \n",
    "\n",
    "[Paper Link](https://arxiv.org/abs/2402.12694)\n",
    "\n",
    "[Implementation Link](https://github.com/Levi-Ackman/Leddam)\n",
    "\n",
    "---------------"
   ]
  },
  {
   "cell_type": "code",
   "execution_count": null,
   "metadata": {},
   "outputs": [],
   "source": []
  },
  {
   "cell_type": "markdown",
   "metadata": {},
   "source": [
    "\n",
    "## Addressing Prediction Delays in Time Series Forecasting: A Continuous GRU Approach with Derivative Regularization \n",
    "\n",
    "29 Jun 2024 \n",
    "\n",
    "[Paper Link](https://arxiv.org/abs/2407.01622)\n",
    "\n",
    "[Implementation Link](https://github.com/sheoyon-jhin/contime)\n",
    "\n",
    "---------------"
   ]
  },
  {
   "cell_type": "code",
   "execution_count": null,
   "metadata": {},
   "outputs": [],
   "source": []
  },
  {
   "cell_type": "markdown",
   "metadata": {},
   "source": [
    "\n",
    "## SigKAN: Signature-Weighted Kolmogorov-Arnold Networks for Time Series \n",
    "\n",
    "25 Jun 2024 \n",
    "\n",
    "[Paper Link](https://arxiv.org/abs/2406.17890)\n",
    "\n",
    "[Implementation Link](https://github.com/remigenet/SigKAN)\n",
    "\n",
    "---------------"
   ]
  },
  {
   "cell_type": "code",
   "execution_count": null,
   "metadata": {},
   "outputs": [],
   "source": []
  },
  {
   "cell_type": "markdown",
   "metadata": {},
   "source": [
    "\n",
    "## Are Language Models Actually Useful for Time Series Forecasting? \n",
    "\n",
    "22 Jun 2024 \n",
    "\n",
    "[Paper Link](https://arxiv.org/abs/2406.16964)\n",
    "\n",
    "[Implementation Link](https://github.com/bennytmt/ts_models)\n",
    "\n",
    "---------------"
   ]
  },
  {
   "cell_type": "code",
   "execution_count": null,
   "metadata": {},
   "outputs": [],
   "source": []
  },
  {
   "cell_type": "markdown",
   "metadata": {},
   "source": [
    "\n",
    "## DeciMamba: Exploring the Length Extrapolation Potential of Mamba \n",
    "\n",
    "20 Jun 2024 \n",
    "\n",
    "[Paper Link](https://arxiv.org/abs/2406.14528)\n",
    "\n",
    "[Implementation Link](https://github.com/assafbk/decimamba)\n",
    "\n",
    "---------------"
   ]
  },
  {
   "cell_type": "code",
   "execution_count": null,
   "metadata": {},
   "outputs": [],
   "source": []
  },
  {
   "cell_type": "markdown",
   "metadata": {},
   "source": [
    "\n",
    "## Understanding Different Design Choices in Training Large Time Series Models \n",
    "\n",
    "20 Jun 2024 \n",
    "\n",
    "[Paper Link](https://arxiv.org/abs/2406.14045)\n",
    "\n",
    "[Implementation Link](https://github.com/daochenzha/ltsm/)\n",
    "\n",
    "---------------"
   ]
  },
  {
   "cell_type": "code",
   "execution_count": null,
   "metadata": {},
   "outputs": [],
   "source": []
  },
  {
   "cell_type": "markdown",
   "metadata": {},
   "source": [
    "\n",
    "## Foundation Models for Time Series Analysis: A Tutorial and Survey \n",
    "\n",
    "18 Jun 2024 \n",
    "\n",
    "[Paper Link](https://arxiv.org/abs/2403.14735)\n",
    "\n",
    "---------------"
   ]
  },
  {
   "cell_type": "code",
   "execution_count": null,
   "metadata": {},
   "outputs": [],
   "source": []
  },
  {
   "cell_type": "markdown",
   "metadata": {},
   "source": [
    "\n",
    "## Generative Pretrained Hierarchical Transformer for Time Series Forecasting \n",
    "\n",
    "18 Jun 2024 \n",
    "\n",
    "[Paper Link](https://arxiv.org/abs/2402.16516)\n",
    "\n",
    "[Implementation Link](https://github.com/icantnamemyself/gpht)\n",
    "\n",
    "---------------"
   ]
  },
  {
   "cell_type": "code",
   "execution_count": null,
   "metadata": {},
   "outputs": [],
   "source": []
  },
  {
   "cell_type": "markdown",
   "metadata": {},
   "source": [
    "\n",
    "## ProbTS: Benchmarking Point and Distributional Forecasting across Diverse Prediction Horizons \n",
    "\n",
    "17 Jun 2024 \n",
    "\n",
    "[Paper Link](https://arxiv.org/abs/2310.07446)\n",
    "\n",
    "[Implementation Link](https://github.com/microsoft/probts)\n",
    "\n",
    "---------------"
   ]
  },
  {
   "cell_type": "code",
   "execution_count": null,
   "metadata": {},
   "outputs": [],
   "source": []
  },
  {
   "cell_type": "markdown",
   "metadata": {},
   "source": [
    "\n",
    "## LLMFactor: Extracting Profitable Factors through Prompts for Explainable Stock Movement Prediction \n",
    "\n",
    "16 Jun 2024 \n",
    "\n",
    "[Paper Link](https://arxiv.org/abs/2406.10811)\n",
    "\n",
    "---------------"
   ]
  },
  {
   "cell_type": "code",
   "execution_count": null,
   "metadata": {},
   "outputs": [],
   "source": []
  },
  {
   "cell_type": "markdown",
   "metadata": {},
   "source": [
    "\n",
    "## SOFTS: Efficient Multivariate Time Series Forecasting with Series-Core Fusion \n",
    "\n",
    "12 Jun 2024 \n",
    "\n",
    "[Paper Link](https://arxiv.org/abs/2404.14197)\n",
    "\n",
    "[Implementation Link](https://github.com/secilia-cxy/softs)\n",
    "\n",
    "---------------"
   ]
  },
  {
   "cell_type": "code",
   "execution_count": null,
   "metadata": {},
   "outputs": [],
   "source": []
  },
  {
   "cell_type": "markdown",
   "metadata": {},
   "source": [
    "\n",
    "## Time-MMD: A New Multi-Domain Multimodal Dataset for Time Series Analysis \n",
    "\n",
    "12 Jun 2024 \n",
    "\n",
    "[Paper Link](https://arxiv.org/abs/2406.08627)\n",
    "\n",
    "[Implementation Link](https://github.com/adityalab/time-mmd)\n",
    "\n",
    "---------------"
   ]
  },
  {
   "cell_type": "code",
   "execution_count": null,
   "metadata": {},
   "outputs": [],
   "source": []
  },
  {
   "cell_type": "markdown",
   "metadata": {},
   "source": [
    "\n",
    "## Calibration of Time-Series Forecasting: Detecting and Adapting Context-Driven Distribution Shift \n",
    "\n",
    "11 Jun 2024 \n",
    "\n",
    "[Paper Link](https://arxiv.org/abs/2310.14838)\n",
    "\n",
    "[Implementation Link](https://github.com/half111/calibration_cds)\n",
    "\n",
    "---------------"
   ]
  },
  {
   "cell_type": "code",
   "execution_count": null,
   "metadata": {},
   "outputs": [],
   "source": []
  },
  {
   "cell_type": "markdown",
   "metadata": {},
   "source": [
    "\n",
    "## Kolmogorov-Arnold Networks for Time Series: Bridging Predictive Power and Interpretability \n",
    "\n",
    "04 Jun 2024 \n",
    "\n",
    "[Paper Link](https://arxiv.org/abs/2406.02496)\n",
    "\n",
    "---------------"
   ]
  },
  {
   "cell_type": "code",
   "execution_count": null,
   "metadata": {},
   "outputs": [],
   "source": []
  },
  {
   "cell_type": "markdown",
   "metadata": {},
   "source": [
    "\n",
    "## Timer: Generative Pre-trained Transformers Are Large Time Series Models \n",
    "\n",
    "04 Jun 2024 \n",
    "\n",
    "[Paper Link](https://arxiv.org/abs/2402.02368)\n",
    "\n",
    "[Implementation Link](https://github.com/thuml/Large-Time-Series-Model)\n",
    "\n",
    "---------------"
   ]
  },
  {
   "cell_type": "code",
   "execution_count": null,
   "metadata": {},
   "outputs": [],
   "source": []
  },
  {
   "cell_type": "markdown",
   "metadata": {},
   "source": [
    "\n",
    "## SAMformer: Unlocking the Potential of Transformers in Time Series Forecasting with Sharpness-Aware Minimization and Channel-Wise Attention \n",
    "\n",
    "03 Jun 2024 \n",
    "\n",
    "[Paper Link](https://arxiv.org/abs/2402.10198)\n",
    "\n",
    "[Implementation Link](https://github.com/romilbert/samformer)\n",
    "\n",
    "---------------"
   ]
  },
  {
   "cell_type": "code",
   "execution_count": null,
   "metadata": {},
   "outputs": [],
   "source": []
  },
  {
   "cell_type": "markdown",
   "metadata": {},
   "source": [
    "\n",
    "## SparseTSF: Modeling Long-term Time Series Forecasting with 1k Parameters \n",
    "\n",
    "03 Jun 2024 \n",
    "\n",
    "[Paper Link](https://arxiv.org/abs/2405.00946)\n",
    "\n",
    "[Implementation Link](https://github.com/lss-1138/SparseTSF)\n",
    "\n",
    "---------------"
   ]
  },
  {
   "cell_type": "code",
   "execution_count": null,
   "metadata": {},
   "outputs": [],
   "source": []
  },
  {
   "cell_type": "markdown",
   "metadata": {},
   "source": [
    "\n",
    "## BayOTIDE: Bayesian Online Multivariate Time series Imputation with functional decomposition \n",
    "\n",
    "30 May 2024 \n",
    "\n",
    "[Paper Link](https://arxiv.org/abs/2308.14906)\n",
    "\n",
    "[Implementation Link](https://github.com/xuangu-fang/bayotide)\n",
    "\n",
    "---------------"
   ]
  },
  {
   "cell_type": "code",
   "execution_count": null,
   "metadata": {},
   "outputs": [],
   "source": []
  },
  {
   "cell_type": "markdown",
   "metadata": {},
   "source": [
    "\n",
    "## Efficient and Effective Time-Series Forecasting with Spiking Neural Networks \n",
    "\n",
    "29 May 2024 \n",
    "\n",
    "[Paper Link](https://arxiv.org/abs/2402.01533)\n",
    "\n",
    "[Implementation Link](https://github.com/microsoft/seqsnn)\n",
    "\n",
    "---------------"
   ]
  },
  {
   "cell_type": "code",
   "execution_count": null,
   "metadata": {},
   "outputs": [],
   "source": []
  },
  {
   "cell_type": "markdown",
   "metadata": {},
   "source": [
    "\n",
    "## UNITS: A Unified Multi-Task Time Series Model \n",
    "\n",
    "29 May 2024 \n",
    "\n",
    "[Paper Link](https://arxiv.org/abs/2403.00131)\n",
    "\n",
    "[Implementation Link](https://github.com/mims-harvard/UniTS)\n",
    "\n",
    "---------------"
   ]
  },
  {
   "cell_type": "code",
   "execution_count": null,
   "metadata": {},
   "outputs": [],
   "source": []
  },
  {
   "cell_type": "markdown",
   "metadata": {},
   "source": [
    "\n",
    "## ForecastGrapher: Redefining Multivariate Time Series Forecasting with Graph Neural Networks \n",
    "\n",
    "28 May 2024 \n",
    "\n",
    "[Paper Link](https://arxiv.org/abs/2405.18036)\n",
    "\n",
    "---------------"
   ]
  },
  {
   "cell_type": "code",
   "execution_count": null,
   "metadata": {},
   "outputs": [],
   "source": []
  },
  {
   "cell_type": "markdown",
   "metadata": {},
   "source": [
    "\n",
    "## MambaTS: Improved Selective State Space Models for Long-term Time Series Forecasting \n",
    "\n",
    "26 May 2024 \n",
    "\n",
    "[Paper Link](https://arxiv.org/abs/2405.16440)\n",
    "\n",
    "[Implementation Link](https://github.com/XiudingCai/MambaTS-pytorch)\n",
    "\n",
    "---------------"
   ]
  },
  {
   "cell_type": "code",
   "execution_count": null,
   "metadata": {},
   "outputs": [],
   "source": []
  },
  {
   "cell_type": "markdown",
   "metadata": {},
   "source": [
    "\n",
    "## CALF: Aligning LLMs for Time Series Forecasting via Cross-modal Fine-Tuning \n",
    "\n",
    "23 May 2024 \n",
    "\n",
    "[Paper Link](https://arxiv.org/abs/2403.07300)\n",
    "\n",
    "[Implementation Link](https://github.com/Hank0626/CALF)\n",
    "\n",
    "---------------"
   ]
  },
  {
   "cell_type": "code",
   "execution_count": null,
   "metadata": {},
   "outputs": [],
   "source": []
  },
  {
   "cell_type": "markdown",
   "metadata": {},
   "source": [
    "\n",
    "## GinAR: An End-To-End Multivariate Time Series Forecasting Model Suitable for Variable Missing \n",
    "\n",
    "18 May 2024 \n",
    "\n",
    "[Paper Link](https://arxiv.org/abs/2405.11333)\n",
    "\n",
    "[Implementation Link](https://github.com/chengqingyu/ginar)\n",
    "\n",
    "---------------"
   ]
  },
  {
   "cell_type": "code",
   "execution_count": null,
   "metadata": {},
   "outputs": [],
   "source": []
  },
  {
   "cell_type": "markdown",
   "metadata": {},
   "source": [
    "\n",
    "## Bi-Mamba+: Bidirectional Mamba for Time Series Forecasting \n",
    "\n",
    "17 May 2024 \n",
    "\n",
    "[Paper Link](https://arxiv.org/abs/2404.15772)\n",
    "\n",
    "---------------"
   ]
  },
  {
   "cell_type": "code",
   "execution_count": null,
   "metadata": {},
   "outputs": [],
   "source": []
  },
  {
   "cell_type": "markdown",
   "metadata": {},
   "source": [
    "\n",
    "## DGCformer: Deep Graph Clustering Transformer for Multivariate Time Series Forecasting \n",
    "\n",
    "14 May 2024 \n",
    "\n",
    "[Paper Link](https://arxiv.org/abs/2405.08440)\n",
    "\n",
    "---------------"
   ]
  },
  {
   "cell_type": "code",
   "execution_count": null,
   "metadata": {},
   "outputs": [],
   "source": []
  },
  {
   "cell_type": "markdown",
   "metadata": {},
   "source": [
    "\n",
    "## Kolmogorov-Arnold Networks (KANs) for Time Series Analysis \n",
    "\n",
    "14 May 2024 \n",
    "\n",
    "[Paper Link](https://arxiv.org/abs/2405.08790)\n",
    "\n",
    "---------------"
   ]
  },
  {
   "cell_type": "code",
   "execution_count": null,
   "metadata": {},
   "outputs": [],
   "source": []
  },
  {
   "cell_type": "markdown",
   "metadata": {},
   "source": [
    "\n",
    "## TKAN: Temporal Kolmogorov-Arnold Networks \n",
    "\n",
    "12 May 2024 \n",
    "\n",
    "[Paper Link](https://arxiv.org/abs/2405.07344)\n",
    "\n",
    "[Implementation Link](https://github.com/remigenet/tkan)\n",
    "\n",
    "---------------"
   ]
  },
  {
   "cell_type": "code",
   "execution_count": null,
   "metadata": {},
   "outputs": [],
   "source": []
  },
  {
   "cell_type": "markdown",
   "metadata": {},
   "source": [
    "\n",
    "## DTMamba : Dual Twin Mamba for Time Series Forecasting \n",
    "\n",
    "11 May 2024 \n",
    "\n",
    "[Paper Link](https://arxiv.org/abs/2405.07022)\n",
    "\n",
    "---------------"
   ]
  },
  {
   "cell_type": "code",
   "execution_count": null,
   "metadata": {},
   "outputs": [],
   "source": []
  },
  {
   "cell_type": "markdown",
   "metadata": {},
   "source": [
    "\n",
    "## Time Evidence Fusion Network: Multi-source View in Long-Term Time Series Forecasting \n",
    "\n",
    "10 May 2024 \n",
    "\n",
    "[Paper Link](https://arxiv.org/abs/2405.06419)\n",
    "\n",
    "[Implementation Link](https://github.com/ztxtech/Time-Evidence-Fusion-Network)\n",
    "\n",
    "---------------"
   ]
  },
  {
   "cell_type": "code",
   "execution_count": null,
   "metadata": {},
   "outputs": [],
   "source": []
  },
  {
   "cell_type": "markdown",
   "metadata": {},
   "source": [
    "\n",
    "## T-Rep: Representation Learning for Time Series using Time-Embeddings \n",
    "\n",
    "09 May 2024 \n",
    "\n",
    "[Paper Link](https://arxiv.org/abs/2310.04486)\n",
    "\n",
    "[Implementation Link](https://github.com/let-it-care/t-rep)\n",
    "\n",
    "---------------"
   ]
  },
  {
   "cell_type": "code",
   "execution_count": null,
   "metadata": {},
   "outputs": [],
   "source": []
  },
  {
   "cell_type": "markdown",
   "metadata": {},
   "source": [
    "\n",
    "## A Survey of Time Series Foundation Models: Generalizing Time Series Representation with Large Language Model \n",
    "\n",
    "07 May 2024 \n",
    "\n",
    "[Paper Link](https://arxiv.org/abs/2405.02358)\n",
    "\n",
    "[Implementation Link](https://github.com/start2020/awesome-timeseries-llm-fm)\n",
    "\n",
    "---------------"
   ]
  },
  {
   "cell_type": "code",
   "execution_count": null,
   "metadata": {},
   "outputs": [],
   "source": []
  },
  {
   "cell_type": "markdown",
   "metadata": {},
   "source": [
    "\n",
    "## TSLANet: Rethinking Transformers for Time Series Representation Learning \n",
    "\n",
    "06 May 2024 \n",
    "\n",
    "[Paper Link](https://arxiv.org/abs/2404.08472)\n",
    "\n",
    "[Implementation Link](https://github.com/emadeldeen24/tslanet)\n",
    "\n",
    "---------------"
   ]
  },
  {
   "cell_type": "code",
   "execution_count": null,
   "metadata": {},
   "outputs": [],
   "source": []
  },
  {
   "cell_type": "markdown",
   "metadata": {},
   "source": [
    "\n",
    "## Irregular Multivariate Time Series Forecasting: A Transformable Patching Graph Neural Networks Approach \n",
    "\n",
    "02 May 2024\n",
    "\n",
    "[Paper Link](https://openreview.net/forum?id=UZlMXUGI6e)\n",
    "\n",
    "---------------"
   ]
  },
  {
   "cell_type": "code",
   "execution_count": null,
   "metadata": {},
   "outputs": [],
   "source": []
  },
  {
   "cell_type": "markdown",
   "metadata": {},
   "source": [
    "\n",
    "## Integrating Mamba and Transformer for Long-Short Range Time Series Forecasting \n",
    "\n",
    "23 Apr 2024 \n",
    "\n",
    "[Paper Link](https://arxiv.org/abs/2404.14757)\n",
    "\n",
    "[Implementation Link](https://github.com/XiongxiaoXu/Mambaformer-in-Time-Series)\n",
    "\n",
    "---------------"
   ]
  },
  {
   "cell_type": "code",
   "execution_count": null,
   "metadata": {},
   "outputs": [],
   "source": []
  },
  {
   "cell_type": "markdown",
   "metadata": {},
   "source": [
    "\n",
    "## Biased Temporal Convolution Graph Network for Time Series Forecasting with Missing Values \n",
    "\n",
    "21 Apr 2024\n",
    "\n",
    "[Paper Link](https://openreview.net/forum?id=O9nZCwdGcG)\n",
    "\n",
    "[Implementation Link](https://github.com/chenxiaodanhit/BiTGraph)\n",
    "\n",
    "---------------"
   ]
  },
  {
   "cell_type": "code",
   "execution_count": null,
   "metadata": {},
   "outputs": [],
   "source": []
  },
  {
   "cell_type": "markdown",
   "metadata": {},
   "source": [
    "\n",
    "## Towards Transparent Time Series Forecasting \n",
    "\n",
    "15 Apr 2024\n",
    "\n",
    "[Paper Link](https://openreview.net/forum?id=TYXtXLYHpR)\n",
    "\n",
    "---------------"
   ]
  },
  {
   "cell_type": "code",
   "execution_count": null,
   "metadata": {},
   "outputs": [],
   "source": []
  },
  {
   "cell_type": "markdown",
   "metadata": {},
   "source": [
    "\n",
    "## ATFNet: Adaptive Time-Frequency Ensembled Network for Long-term Time Series Forecasting \n",
    "\n",
    "08 Apr 2024 \n",
    "\n",
    "[Paper Link](https://arxiv.org/abs/2404.05192)\n",
    "\n",
    "[Implementation Link](https://github.com/yhyhyhyhyhy/atfnet)\n",
    "\n",
    "---------------"
   ]
  },
  {
   "cell_type": "code",
   "execution_count": null,
   "metadata": {},
   "outputs": [],
   "source": []
  },
  {
   "cell_type": "markdown",
   "metadata": {},
   "source": [
    "\n",
    "## OneShotSTL: One-Shot Seasonal-Trend Decomposition For Online Time Series Anomaly Detection And Forecasting \n",
    "\n",
    "04 Apr 2023 \n",
    "\n",
    "[Paper Link](https://arxiv.org/abs/2304.01506)\n",
    "\n",
    "[Implementation Link](https://github.com/xiao-he/oneshotstl)\n",
    "\n",
    "---------------"
   ]
  },
  {
   "cell_type": "code",
   "execution_count": null,
   "metadata": {},
   "outputs": [],
   "source": []
  },
  {
   "cell_type": "markdown",
   "metadata": {},
   "source": [
    "\n",
    "## Is Mamba Effective for Time Series Forecasting? \n",
    "\n",
    "02 Apr 2024 \n",
    "\n",
    "[Paper Link](https://arxiv.org/abs/2403.11144)\n",
    "\n",
    "[Implementation Link](https://github.com/wzhwzhwzh0921/S-D-Mamba)\n",
    "\n",
    "---------------"
   ]
  },
  {
   "cell_type": "code",
   "execution_count": null,
   "metadata": {},
   "outputs": [],
   "source": []
  },
  {
   "cell_type": "markdown",
   "metadata": {},
   "source": [
    "\n",
    "## TEMPO: Prompt-based Generative Pre-trained Transformer for Time Series Forecasting \n",
    "\n",
    "02 Apr 2024 \n",
    "\n",
    "[Paper Link](https://arxiv.org/abs/2310.04948)\n",
    "\n",
    "[Implementation Link](https://github.com/dc-research/tempo)\n",
    "\n",
    "---------------"
   ]
  },
  {
   "cell_type": "code",
   "execution_count": null,
   "metadata": {},
   "outputs": [],
   "source": []
  },
  {
   "cell_type": "markdown",
   "metadata": {},
   "source": [
    "\n",
    "## MambaMixer: Efficient Selective State Space Models with Dual Token and Channel Selection \n",
    "\n",
    "29 Mar 2024 \n",
    "\n",
    "[Paper Link](https://arxiv.org/abs/2403.19888)\n",
    "\n",
    "---------------"
   ]
  },
  {
   "cell_type": "code",
   "execution_count": null,
   "metadata": {},
   "outputs": [],
   "source": []
  },
  {
   "cell_type": "markdown",
   "metadata": {},
   "source": [
    "\n",
    "## TFB: Towards Comprehensive and Fair Benchmarking of Time Series Forecasting Methods \n",
    "\n",
    "29 Mar 2024 \n",
    "\n",
    "[Paper Link](https://arxiv.org/abs/2403.20150)\n",
    "\n",
    "[Implementation Link](https://github.com/decisionintelligence/TFB)\n",
    "\n",
    "---------------"
   ]
  },
  {
   "cell_type": "code",
   "execution_count": null,
   "metadata": {},
   "outputs": [],
   "source": []
  },
  {
   "cell_type": "markdown",
   "metadata": {},
   "source": [
    "\n",
    "## An Analysis of Linear Time Series Forecasting Models \n",
    "\n",
    "25 Mar 2024 \n",
    "\n",
    "[Paper Link](https://arxiv.org/abs/2403.14587)\n",
    "\n",
    "[Implementation Link](https://github.com/sir-lab/linear-forecasting)\n",
    "\n",
    "---------------"
   ]
  },
  {
   "cell_type": "code",
   "execution_count": null,
   "metadata": {},
   "outputs": [],
   "source": []
  },
  {
   "cell_type": "markdown",
   "metadata": {},
   "source": [
    "\n",
    "## An End-to-End Structure with Novel Position Mechanism and Improved EMD for Stock Forecasting \n",
    "\n",
    "25 Mar 2024 \n",
    "\n",
    "[Paper Link](https://arxiv.org/abs/2404.07969)\n",
    "\n",
    "[Implementation Link](https://github.com/durandallee/aceformer)\n",
    "\n",
    "---------------"
   ]
  },
  {
   "cell_type": "code",
   "execution_count": null,
   "metadata": {},
   "outputs": [],
   "source": []
  },
  {
   "cell_type": "markdown",
   "metadata": {},
   "source": [
    "\n",
    "## HDMixer: Hierarchical Dependency with Extendable Patch for Multivariate Time Series Forecasting \n",
    "\n",
    "24 Mar 2024\n",
    "\n",
    "[Paper Link](https://ojs.aaai.org/index.php/AAAI/article/view/29155)\n",
    "\n",
    "---------------"
   ]
  },
  {
   "cell_type": "code",
   "execution_count": null,
   "metadata": {},
   "outputs": [],
   "source": []
  },
  {
   "cell_type": "markdown",
   "metadata": {},
   "source": [
    "\n",
    "## Latent Diffusion Transformer for Probabilistic Time Series Forecasting \n",
    "\n",
    "24 Mar 2024\n",
    "\n",
    "[Paper Link](https://ojs.aaai.org/index.php/AAAI/article/view/29085)\n",
    "\n",
    "---------------"
   ]
  },
  {
   "cell_type": "code",
   "execution_count": null,
   "metadata": {},
   "outputs": [],
   "source": []
  },
  {
   "cell_type": "markdown",
   "metadata": {},
   "source": [
    "\n",
    "## StockMixer: A Simple Yet Strong MLP-Based Architecture for Stock Price Forecasting \n",
    "\n",
    "24 Mar 2024\n",
    "\n",
    "[Paper Link](https://ojs.aaai.org/index.php/AAAI/article/view/28681)\n",
    "\n",
    "[Implementation Link](https://github.com/SJTU-Quant/StockMixer)\n",
    "\n",
    "---------------"
   ]
  },
  {
   "cell_type": "code",
   "execution_count": null,
   "metadata": {},
   "outputs": [],
   "source": []
  },
  {
   "cell_type": "markdown",
   "metadata": {},
   "source": [
    "\n",
    "## ModernTCN: A Modern Pure Convolution Structure for General Time Series Analysis \n",
    "\n",
    "22 Mar 2024\n",
    "\n",
    "[Paper Link](https://openreview.net/forum?id=vpJMJerXHU)\n",
    "\n",
    "[Implementation Link](https://github.com/luodhhh/ModernTCN)\n",
    "\n",
    "---------------"
   ]
  },
  {
   "cell_type": "code",
   "execution_count": null,
   "metadata": {},
   "outputs": [],
   "source": []
  },
  {
   "cell_type": "markdown",
   "metadata": {},
   "source": [
    "\n",
    "## SiMBA: Simplified Mamba-Based Architecture for Vision and Multivariate Time series \n",
    "\n",
    "22 Mar 2024 \n",
    "\n",
    "[Paper Link](https://arxiv.org/abs/2403.15360)\n",
    "\n",
    "[Implementation Link](https://github.com/badripatro/simba)\n",
    "\n",
    "---------------"
   ]
  },
  {
   "cell_type": "code",
   "execution_count": null,
   "metadata": {},
   "outputs": [],
   "source": []
  },
  {
   "cell_type": "markdown",
   "metadata": {},
   "source": [
    "\n",
    "## Self-Supervised Learning for Time Series: Contrastive or Generative? \n",
    "\n",
    "14 Mar 2024 \n",
    "\n",
    "[Paper Link](https://arxiv.org/abs/2403.09809)\n",
    "\n",
    "[Implementation Link](https://github.com/dl4mhealth/ssl_comparison)\n",
    "\n",
    "---------------"
   ]
  },
  {
   "cell_type": "code",
   "execution_count": null,
   "metadata": {},
   "outputs": [],
   "source": []
  },
  {
   "cell_type": "markdown",
   "metadata": {},
   "source": [
    "\n",
    "## TimeMachine: A Time Series is Worth 4 Mambas for Long-term Forecasting \n",
    "\n",
    "14 Mar 2024 \n",
    "\n",
    "[Paper Link](https://arxiv.org/abs/2403.09898)\n",
    "\n",
    "[Implementation Link](https://github.com/atik-ahamed/timemachine)\n",
    "\n",
    "---------------"
   ]
  },
  {
   "cell_type": "code",
   "execution_count": null,
   "metadata": {},
   "outputs": [],
   "source": []
  },
  {
   "cell_type": "markdown",
   "metadata": {},
   "source": [
    "\n",
    "## TimeDRL: Disentangled Representation Learning for Multivariate Time-Series \n",
    "\n",
    "13 Mar 2024 \n",
    "\n",
    "[Paper Link](https://arxiv.org/abs/2312.04142)\n",
    "\n",
    "[Implementation Link](https://github.com/blacksnail789521/timedrl)\n",
    "\n",
    "---------------"
   ]
  },
  {
   "cell_type": "code",
   "execution_count": null,
   "metadata": {},
   "outputs": [],
   "source": []
  },
  {
   "cell_type": "markdown",
   "metadata": {},
   "source": [
    "\n",
    "## Multi-Patch Prediction: Adapting LLMs for Time Series Representation Learning \n",
    "\n",
    "10 Mar 2024 \n",
    "\n",
    "[Paper Link](https://arxiv.org/abs/2402.04852)\n",
    "\n",
    "[Implementation Link](https://github.com/yxbian23/aLLM4TS)\n",
    "\n",
    "---------------"
   ]
  },
  {
   "cell_type": "code",
   "execution_count": null,
   "metadata": {},
   "outputs": [],
   "source": []
  },
  {
   "cell_type": "markdown",
   "metadata": {},
   "source": [
    "\n",
    "## MG-TSD: Multi-Granularity Time Series Diffusion Models with Guided Learning Process \n",
    "\n",
    "09 Mar 2024 \n",
    "\n",
    "[Paper Link](https://arxiv.org/abs/2403.05751)\n",
    "\n",
    "[Implementation Link](https://github.com/hundredl/mg-tsd)\n",
    "\n",
    "---------------"
   ]
  },
  {
   "cell_type": "code",
   "execution_count": null,
   "metadata": {},
   "outputs": [],
   "source": []
  },
  {
   "cell_type": "markdown",
   "metadata": {},
   "source": [
    "\n",
    "## Considering Nonstationary within Multivariate Time Series with Variational Hierarchical Transformer for Forecasting \n",
    "\n",
    "08 Mar 2024 \n",
    "\n",
    "[Paper Link](https://arxiv.org/abs/2403.05406)\n",
    "\n",
    "[Implementation Link](https://github.com/flare200020/HTV_Trans)\n",
    "\n",
    "---------------"
   ]
  },
  {
   "cell_type": "code",
   "execution_count": null,
   "metadata": {},
   "outputs": [],
   "source": []
  },
  {
   "cell_type": "markdown",
   "metadata": {},
   "source": [
    "\n",
    "## Pathformer: Multi-scale Transformers with Adaptive Pathways for Time Series Forecasting \n",
    "\n",
    "07 Mar 2024 \n",
    "\n",
    "[Paper Link](https://arxiv.org/abs/2402.05956)\n",
    "\n",
    "[Implementation Link](https://github.com/decisionintelligence/pathformer)\n",
    "\n",
    "---------------"
   ]
  },
  {
   "cell_type": "code",
   "execution_count": null,
   "metadata": {},
   "outputs": [],
   "source": []
  },
  {
   "cell_type": "markdown",
   "metadata": {},
   "source": [
    "\n",
    "## Periodicity Decoupling Framework for Long-term Series Forecasting \n",
    "\n",
    "06 Mar 2024\n",
    "\n",
    "[Paper Link](https://openreview.net/forum?id=dp27P5HBBt)\n",
    "\n",
    "[Implementation Link](https://github.com/Hank0626/PDF)\n",
    "\n",
    "---------------"
   ]
  },
  {
   "cell_type": "code",
   "execution_count": null,
   "metadata": {},
   "outputs": [],
   "source": []
  },
  {
   "cell_type": "markdown",
   "metadata": {},
   "source": [
    "\n",
    "## InjectTST: A Transformer Method of Injecting Global Information into Independent Channels for Long Time Series Forecasting \n",
    "\n",
    "05 Mar 2024 \n",
    "\n",
    "[Paper Link](https://arxiv.org/abs/2403.02814)\n",
    "\n",
    "---------------"
   ]
  },
  {
   "cell_type": "code",
   "execution_count": null,
   "metadata": {},
   "outputs": [],
   "source": []
  },
  {
   "cell_type": "markdown",
   "metadata": {},
   "source": [
    "\n",
    "## CATS: Enhancing Multivariate Time Series Forecasting by Constructing Auxiliary Time Series as Exogenous Variables \n",
    "\n",
    "04 Mar 2024 \n",
    "\n",
    "[Paper Link](https://arxiv.org/abs/2403.01673)\n",
    "\n",
    "[Implementation Link](https://github.com/LJC-FVNR/CATS)\n",
    "\n",
    "---------------"
   ]
  },
  {
   "cell_type": "code",
   "execution_count": null,
   "metadata": {},
   "outputs": [],
   "source": []
  },
  {
   "cell_type": "markdown",
   "metadata": {},
   "source": [
    "\n",
    "## Diffusion-TS: Interpretable Diffusion for General Time Series Generation \n",
    "\n",
    "04 Mar 2024 \n",
    "\n",
    "[Paper Link](https://arxiv.org/abs/2403.01742)\n",
    "\n",
    "[Implementation Link](https://github.com/y-debug-sys/diffusion-ts)\n",
    "\n",
    "---------------"
   ]
  },
  {
   "cell_type": "code",
   "execution_count": null,
   "metadata": {},
   "outputs": [],
   "source": []
  },
  {
   "cell_type": "markdown",
   "metadata": {},
   "source": [
    "\n",
    "## Learning to Generate Explainable Stock Predictions using Self-Reflective Large Language Models \n",
    "\n",
    "29 Feb 2024 \n",
    "\n",
    "[Paper Link](https://arxiv.org/abs/2402.03659)\n",
    "\n",
    "[Implementation Link](https://github.com/koa-fin/sep)\n",
    "\n",
    "---------------"
   ]
  },
  {
   "cell_type": "code",
   "execution_count": null,
   "metadata": {},
   "outputs": [],
   "source": []
  },
  {
   "cell_type": "markdown",
   "metadata": {},
   "source": [
    "\n",
    "## TimeXer: Empowering Transformers for Time Series Forecasting with Exogenous Variables \n",
    "\n",
    "29 Feb 2024 \n",
    "\n",
    "[Paper Link](https://arxiv.org/abs/2402.19072)\n",
    "\n",
    "[Implementation Link](https://github.com/thuml/timexer)\n",
    "\n",
    "---------------"
   ]
  },
  {
   "cell_type": "code",
   "execution_count": null,
   "metadata": {},
   "outputs": [],
   "source": []
  },
  {
   "cell_type": "markdown",
   "metadata": {},
   "source": [
    "\n",
    "## TOTEM: TOkenized Time Series EMbeddings for General Time Series Analysis \n",
    "\n",
    "26 Feb 2024 \n",
    "\n",
    "[Paper Link](https://arxiv.org/abs/2402.16412)\n",
    "\n",
    "[Implementation Link](https://github.com/saberatalukder/totem)\n",
    "\n",
    "---------------"
   ]
  },
  {
   "cell_type": "code",
   "execution_count": null,
   "metadata": {},
   "outputs": [],
   "source": []
  },
  {
   "cell_type": "markdown",
   "metadata": {},
   "source": [
    "\n",
    "## LSTPrompt: Large Language Models as Zero-Shot Time Series Forecasters by Long-Short-Term Prompting \n",
    "\n",
    "25 Feb 2024 \n",
    "\n",
    "[Paper Link](https://arxiv.org/abs/2402.16132)\n",
    "\n",
    "[Implementation Link](https://github.com/AdityaLab/lstprompt)\n",
    "\n",
    "---------------"
   ]
  },
  {
   "cell_type": "code",
   "execution_count": null,
   "metadata": {},
   "outputs": [],
   "source": []
  },
  {
   "cell_type": "markdown",
   "metadata": {},
   "source": [
    "\n",
    "## TEST: Text Prototype Aligned Embedding to Activate LLM's Ability for Time Series \n",
    "\n",
    "22 Feb 2024 \n",
    "\n",
    "[Paper Link](https://arxiv.org/abs/2308.08241)\n",
    "\n",
    "[Implementation Link](https://github.com/scxsunchenxi/test)\n",
    "\n",
    "---------------"
   ]
  },
  {
   "cell_type": "code",
   "execution_count": null,
   "metadata": {},
   "outputs": [],
   "source": []
  },
  {
   "cell_type": "markdown",
   "metadata": {},
   "source": [
    "\n",
    "## CARD: Channel Aligned Robust Blend Transformer for Time Series Forecasting \n",
    "\n",
    "16 Feb 2024 \n",
    "\n",
    "[Paper Link](https://arxiv.org/abs/2305.12095)\n",
    "\n",
    "[Implementation Link](https://github.com/wxie9/card)\n",
    "\n",
    "---------------"
   ]
  },
  {
   "cell_type": "code",
   "execution_count": null,
   "metadata": {},
   "outputs": [],
   "source": []
  },
  {
   "cell_type": "markdown",
   "metadata": {},
   "source": [
    "\n",
    "## ContiFormer: Continuous-Time Transformer for Irregular Time Series Modeling \n",
    "\n",
    "16 Feb 2024 \n",
    "\n",
    "[Paper Link](https://arxiv.org/abs/2402.10635)\n",
    "\n",
    "[Implementation Link](https://github.com/microsoft/SeqML/tree/main/ContiFormer)\n",
    "\n",
    "---------------"
   ]
  },
  {
   "cell_type": "code",
   "execution_count": null,
   "metadata": {},
   "outputs": [],
   "source": []
  },
  {
   "cell_type": "markdown",
   "metadata": {},
   "source": [
    "\n",
    "## Large Language Models for Forecasting and Anomaly Detection: A Systematic Literature Review \n",
    "\n",
    "15 Feb 2024 \n",
    "\n",
    "[Paper Link](https://arxiv.org/abs/2402.10350)\n",
    "\n",
    "---------------"
   ]
  },
  {
   "cell_type": "code",
   "execution_count": null,
   "metadata": {},
   "outputs": [],
   "source": []
  },
  {
   "cell_type": "markdown",
   "metadata": {},
   "source": [
    "\n",
    "## MultiResFormer: Transformer with Adaptive Multi-Resolution Modeling for General Time Series Forecasting \n",
    "\n",
    "08 Feb 2024 \n",
    "\n",
    "[Paper Link](https://arxiv.org/abs/2311.18780)\n",
    "\n",
    "---------------"
   ]
  },
  {
   "cell_type": "code",
   "execution_count": null,
   "metadata": {},
   "outputs": [],
   "source": []
  },
  {
   "cell_type": "markdown",
   "metadata": {},
   "source": [
    "\n",
    "## MOMENT: A Family of Open Time-series Foundation Models \n",
    "\n",
    "06 Feb 2024 \n",
    "\n",
    "[Paper Link](https://arxiv.org/abs/2402.03885)\n",
    "\n",
    "https://anonymous.4open.science/r/BETT-773F/README.md)\n",
    "\n",
    "---------------"
   ]
  },
  {
   "cell_type": "code",
   "execution_count": null,
   "metadata": {},
   "outputs": [],
   "source": []
  },
  {
   "cell_type": "markdown",
   "metadata": {},
   "source": [
    "\n",
    "## DiffsFormer: A Diffusion Transformer on Stock Factor Augmentation \n",
    "\n",
    "05 Feb 2024 \n",
    "\n",
    "[Paper Link](https://arxiv.org/abs/2402.06656)\n",
    "\n",
    "---------------"
   ]
  },
  {
   "cell_type": "code",
   "execution_count": null,
   "metadata": {},
   "outputs": [],
   "source": []
  },
  {
   "cell_type": "markdown",
   "metadata": {},
   "source": [
    "\n",
    "## Position Paper: What Can Large Language Models Tell Us about Time Series Analysis \n",
    "\n",
    "05 Feb 2024 \n",
    "\n",
    "[Paper Link](https://arxiv.org/abs/2402.02713)\n",
    "\n",
    "---------------"
   ]
  },
  {
   "cell_type": "code",
   "execution_count": null,
   "metadata": {},
   "outputs": [],
   "source": []
  },
  {
   "cell_type": "markdown",
   "metadata": {},
   "source": [
    "\n",
    "## AutoTimes: Autoregressive Time Series Forecasters via Large Language Models \n",
    "\n",
    "04 Feb 2024 \n",
    "\n",
    "[Paper Link](https://arxiv.org/abs/2402.02370)\n",
    "\n",
    "[Implementation Link](https://github.com/thuml/AutoTimes)\n",
    "\n",
    "---------------"
   ]
  },
  {
   "cell_type": "code",
   "execution_count": null,
   "metadata": {},
   "outputs": [],
   "source": []
  },
  {
   "cell_type": "markdown",
   "metadata": {},
   "source": [
    "\n",
    "## FreDF: Learning to Forecast in Frequency Domain \n",
    "\n",
    "04 Feb 2024 \n",
    "\n",
    "[Paper Link](https://arxiv.org/abs/2402.02399)\n",
    "\n",
    "[Implementation Link](https://github.com/master-plc/fredf)\n",
    "\n",
    "---------------"
   ]
  },
  {
   "cell_type": "code",
   "execution_count": null,
   "metadata": {},
   "outputs": [],
   "source": []
  },
  {
   "cell_type": "markdown",
   "metadata": {},
   "source": [
    "\n",
    "## RobustTSF: Towards Theory and Design of Robust Time Series Forecasting with Anomalies \n",
    "\n",
    "03 Feb 2024 \n",
    "\n",
    "[Paper Link](https://arxiv.org/abs/2402.02032)\n",
    "\n",
    "[Implementation Link](https://github.com/haochenglouis/robusttsf)\n",
    "\n",
    "---------------"
   ]
  },
  {
   "cell_type": "code",
   "execution_count": null,
   "metadata": {},
   "outputs": [],
   "source": []
  },
  {
   "cell_type": "markdown",
   "metadata": {},
   "source": [
    "\n",
    "## Large Language Models for Time Series: A Survey \n",
    "\n",
    "02 Feb 2024 \n",
    "\n",
    "[Paper Link](https://arxiv.org/abs/2402.01801)\n",
    "\n",
    "[Implementation Link](https://github.com/xiyuanzh/awesome-llm-time-series)\n",
    "\n",
    "---------------"
   ]
  },
  {
   "cell_type": "code",
   "execution_count": null,
   "metadata": {},
   "outputs": [],
   "source": []
  },
  {
   "cell_type": "markdown",
   "metadata": {},
   "source": [
    "\n",
    "## A Survey of Deep Learning and Foundation Models for Time Series Forecasting \n",
    "\n",
    "25 Jan 2024 \n",
    "\n",
    "[Paper Link](https://arxiv.org/abs/2401.13912)\n",
    "\n",
    "---------------"
   ]
  },
  {
   "cell_type": "code",
   "execution_count": null,
   "metadata": {},
   "outputs": [],
   "source": []
  },
  {
   "cell_type": "markdown",
   "metadata": {},
   "source": [
    "\n",
    "## LLM4TS: Aligning Pre-Trained LLMs as Data-Efficient Time-Series Forecasters \n",
    "\n",
    "18 Jan 2024 \n",
    "\n",
    "[Paper Link](https://arxiv.org/abs/2308.08469)\n",
    "\n",
    "---------------"
   ]
  },
  {
   "cell_type": "code",
   "execution_count": null,
   "metadata": {},
   "outputs": [],
   "source": []
  },
  {
   "cell_type": "markdown",
   "metadata": {},
   "source": [
    "\n",
    "## MSHyper: Multi-Scale Hypergraph Transformer for Long-Range Time Series Forecasting \n",
    "\n",
    "17 Jan 2024 \n",
    "\n",
    "[Paper Link](https://arxiv.org/abs/2401.09261)\n",
    "\n",
    "---------------"
   ]
  },
  {
   "cell_type": "code",
   "execution_count": null,
   "metadata": {},
   "outputs": [],
   "source": []
  },
  {
   "cell_type": "markdown",
   "metadata": {},
   "source": [
    "\n",
    "## RWKV-TS: Beyond Traditional Recurrent Neural Network for Time Series Tasks \n",
    "\n",
    "17 Jan 2024 \n",
    "\n",
    "[Paper Link](https://arxiv.org/abs/2401.09093)\n",
    "\n",
    "[Implementation Link](https://github.com/howard-hou/RWKV-TS)\n",
    "\n",
    "---------------"
   ]
  },
  {
   "cell_type": "code",
   "execution_count": null,
   "metadata": {},
   "outputs": [],
   "source": []
  },
  {
   "cell_type": "markdown",
   "metadata": {},
   "source": [
    "\n",
    "## CNN Kernels Can Be the Best Shapelets \n",
    "\n",
    "16 Jan 2024\n",
    "\n",
    "[Paper Link](https://openreview.net/forum?id=O8ouVV8PjF)\n",
    "\n",
    "---------------"
   ]
  },
  {
   "cell_type": "code",
   "execution_count": null,
   "metadata": {},
   "outputs": [],
   "source": []
  },
  {
   "cell_type": "markdown",
   "metadata": {},
   "source": [
    "\n",
    "## GAFormer: Enhancing Timeseries Transformers Through Group-Aware Embeddings \n",
    "\n",
    "16 Jan 2024\n",
    "\n",
    "[Paper Link](https://openreview.net/forum?id=c56TWtYp0W)\n",
    "\n",
    "[Implementation Link](https://github.com/nerdslab/GAFormer)\n",
    "\n",
    "---------------"
   ]
  },
  {
   "cell_type": "code",
   "execution_count": null,
   "metadata": {},
   "outputs": [],
   "source": []
  },
  {
   "cell_type": "markdown",
   "metadata": {},
   "source": [
    "\n",
    "## Generative Learning for Financial Time Series with Irregular and Scale-Invariant Patterns \n",
    "\n",
    "16 Jan 2024\n",
    "\n",
    "[Paper Link](https://openreview.net/forum?id=CdjnzWsQax)\n",
    "\n",
    "---------------"
   ]
  },
  {
   "cell_type": "code",
   "execution_count": null,
   "metadata": {},
   "outputs": [],
   "source": []
  },
  {
   "cell_type": "markdown",
   "metadata": {},
   "source": [
    "\n",
    "## Interpretable Sparse System Identification: Beyond Recent Deep Learning Techniques on Time-Series Prediction \n",
    "\n",
    "16 Jan 2024\n",
    "\n",
    "[Paper Link](https://openreview.net/forum?id=aFWUY3E7ws)\n",
    "\n",
    "---------------"
   ]
  },
  {
   "cell_type": "code",
   "execution_count": null,
   "metadata": {},
   "outputs": [],
   "source": []
  },
  {
   "cell_type": "markdown",
   "metadata": {},
   "source": [
    "\n",
    "## Leveraging Generative Models for Unsupervised Alignment of Neural Time Series Data \n",
    "\n",
    "16 Jan 2024\n",
    "\n",
    "[Paper Link](https://openreview.net/forum?id=9zhHVyLY4K)\n",
    "\n",
    "---------------"
   ]
  },
  {
   "cell_type": "code",
   "execution_count": null,
   "metadata": {},
   "outputs": [],
   "source": []
  },
  {
   "cell_type": "markdown",
   "metadata": {},
   "source": [
    "\n",
    "## Self-Supervised Contrastive Learning for Long-term Forecasting \n",
    "\n",
    "16 Jan 2024\n",
    "\n",
    "[Paper Link](https://openreview.net/forum?id=nBCuRzjqK7)\n",
    "\n",
    "[Implementation Link](https://github.com/junwoopark92/Self-Supervised-Contrastive-Forecsating)\n",
    "\n",
    "---------------"
   ]
  },
  {
   "cell_type": "code",
   "execution_count": null,
   "metadata": {},
   "outputs": [],
   "source": []
  },
  {
   "cell_type": "markdown",
   "metadata": {},
   "source": [
    "\n",
    "## SocioDojo: Building Lifelong Analytical Agents with Real-world Text and Time Series \n",
    "\n",
    "16 Jan 2024\n",
    "\n",
    "[Paper Link](https://openreview.net/forum?id=s9z0HzWJJp)\n",
    "\n",
    "---------------"
   ]
  },
  {
   "cell_type": "code",
   "execution_count": null,
   "metadata": {},
   "outputs": [],
   "source": []
  },
  {
   "cell_type": "markdown",
   "metadata": {},
   "source": [
    "\n",
    "## Transformer-Modulated Diffusion Models for Probabilistic Multivariate Time Series Forecasting \n",
    "\n",
    "16 Jan 2024\n",
    "\n",
    "[Paper Link](https://openreview.net/forum?id=qae04YACHs)\n",
    "\n",
    "---------------"
   ]
  },
  {
   "cell_type": "code",
   "execution_count": null,
   "metadata": {},
   "outputs": [],
   "source": []
  },
  {
   "cell_type": "markdown",
   "metadata": {},
   "source": [
    "\n",
    "## HiMTM: Hierarchical Multi-Scale Masked Time Series Modeling for Long-Term Forecasting \n",
    "\n",
    "10 Jan 2024 \n",
    "\n",
    "[Paper Link](https://arxiv.org/abs/2401.05012)\n",
    "\n",
    "---------------"
   ]
  },
  {
   "cell_type": "code",
   "execution_count": null,
   "metadata": {},
   "outputs": [],
   "source": []
  },
  {
   "cell_type": "markdown",
   "metadata": {},
   "source": [
    "\n",
    "## Universal Time-Series Representation Learning: A Survey \n",
    "\n",
    "08 Jan 2024 \n",
    "\n",
    "[Paper Link](https://arxiv.org/abs/2401.03717)\n",
    "\n",
    "[Implementation Link](https://github.com/itouchz/awesome-deep-time-series-representations)\n",
    "\n",
    "---------------"
   ]
  },
  {
   "cell_type": "code",
   "execution_count": null,
   "metadata": {},
   "outputs": [],
   "source": []
  },
  {
   "cell_type": "markdown",
   "metadata": {},
   "source": [
    "\n",
    "## UnetTSF: A Better Performance Linear Complexity Time Series Prediction Model \n",
    "\n",
    "05 Jan 2024 \n",
    "\n",
    "[Paper Link](https://arxiv.org/abs/2401.03001)\n",
    "\n",
    "[Implementation Link](https://github.com/lichuustc/UnetTSF)\n",
    "\n",
    "---------------"
   ]
  },
  {
   "cell_type": "code",
   "execution_count": null,
   "metadata": {},
   "outputs": [],
   "source": []
  },
  {
   "cell_type": "markdown",
   "metadata": {},
   "source": [
    "\n",
    "## U-Mixer: An Unet-Mixer Architecture with Stationarity Correction for Time Series Forecasting \n",
    "\n",
    "04 Jan 2024 \n",
    "\n",
    "[Paper Link](https://arxiv.org/abs/2401.02236)\n",
    "\n",
    "[Implementation Link](https://github.com/XiangMa-Shaun/U-Mixer)\n",
    "\n",
    "---------------"
   ]
  },
  {
   "cell_type": "code",
   "execution_count": null,
   "metadata": {},
   "outputs": [],
   "source": []
  },
  {
   "cell_type": "markdown",
   "metadata": {},
   "source": [
    "\n",
    "## D-PAD: Deep-Shallow Multi-Frequency Patterns Disentangling for Time Series Forecasting \n",
    "\n",
    "26 Mar 2024 \n",
    "\n",
    "[Paper Link](https://arxiv.org/abs/2403.17814)\n",
    "\n",
    "[Implementation Link](https://github.com/XYBbo5/D-PAD)\n",
    "\n",
    "---------------"
   ]
  },
  {
   "cell_type": "code",
   "execution_count": null,
   "metadata": {},
   "outputs": [],
   "source": []
  },
  {
   "cell_type": "markdown",
   "metadata": {},
   "source": [
    "\n",
    "## TimeCMA: Towards LLM-Empowered Time Series Forecasting via Cross-Modality Alignment \n",
    "\n",
    "3 Jun 2024 \n",
    "\n",
    "[Paper Link](https://arxiv.org/abs/2406.01638)\n",
    "\n",
    "[Implementation Link](https://github.com/UConn-DSIS/Empowering-Time-Series-Analysis-with-LLM)\n",
    "\n",
    "---------------"
   ]
  },
  {
   "cell_type": "code",
   "execution_count": null,
   "metadata": {},
   "outputs": [],
   "source": []
  },
  {
   "cell_type": "markdown",
   "metadata": {},
   "source": [
    "\n",
    "## ROSE: Register Assisted General Time Series Forecasting with Decomposed Frequency Learning \n",
    "\n",
    "24 May 2024 \n",
    "\n",
    "[Paper Link](https://arxiv.org/abs/2405.17478)\n",
    "\n",
    "---------------"
   ]
  },
  {
   "cell_type": "code",
   "execution_count": null,
   "metadata": {},
   "outputs": [],
   "source": []
  },
  {
   "cell_type": "markdown",
   "metadata": {},
   "source": [
    "\n",
    "## ConvTimeNet: A Deep Hierarchical Fully Convolutional Model for Multivariate Time Series Analysis \n",
    "\n",
    "3 Mar 2024 \n",
    "\n",
    "[Paper Link](https://arxiv.org/abs/2403.01493)\n",
    "\n",
    "[Implementation Link](https://github.com/Mingyue-Cheng/ConvTimeNet)\n",
    "\n",
    "---------------"
   ]
  },
  {
   "cell_type": "code",
   "execution_count": null,
   "metadata": {},
   "outputs": [],
   "source": []
  },
  {
   "cell_type": "markdown",
   "metadata": {},
   "source": [
    "\n",
    "## AMD: Adaptive Multi-Scale Decomposition Framework for Time Series Forecasting \n",
    "\n",
    "06 Jun 2024 \n",
    "\n",
    "[Paper Link](https://arxiv.org/abs/2406.03751)\n",
    "\n",
    "[Implementation Link](https://github.com/TROUBADOUR000/AMD)\n",
    "\n",
    "---------------"
   ]
  },
  {
   "cell_type": "code",
   "execution_count": null,
   "metadata": {},
   "outputs": [],
   "source": []
  },
  {
   "cell_type": "markdown",
   "metadata": {},
   "source": [
    "\n",
    "## GTT-Large: Only the Curve Shape Matters: Training Foundation Models for Zero-Shot Multivariate Time Series Forecasting through Next Curve Shape Prediction \n",
    "\n",
    "12 Feb 2024\n",
    "\n",
    "[Paper Link](https://www.arxiv.org/abs/2402.07570)\n",
    "\n",
    "[Implementation Link](https://github.com/cfeng783/GTT)\n",
    "\n",
    "---------------"
   ]
  },
  {
   "cell_type": "code",
   "execution_count": null,
   "metadata": {},
   "outputs": [],
   "source": []
  },
  {
   "cell_type": "markdown",
   "metadata": {},
   "source": [
    "\n",
    "## LTBoost: Boosted Hybrids of Ensemble Linear and Gradient Algorithms for the Long-term Time Series Forecasting \n",
    "\n",
    "21 October 2024\n",
    "\n",
    "[Paper Link](https://dl.acm.org/doi/abs/10.1145/3627673.3679527)\n",
    "\n",
    "[Implementation Link](https://github.com/hubtru/LTBoost)\n",
    "\n",
    "---------------"
   ]
  },
  {
   "cell_type": "code",
   "execution_count": null,
   "metadata": {},
   "outputs": [],
   "source": []
  },
  {
   "cell_type": "markdown",
   "metadata": {},
   "source": [
    "\n",
    "## GridTST: Leveraging 2D Information for Long-term Time Series Forecasting with Vanilla Transformers \n",
    "\n",
    "22 May 2024 \n",
    "\n",
    "[Paper Link](https://arxiv.org/abs/2405.13810)\n",
    "\n",
    "[Implementation Link](https://github.com/Hannibal046/GridTST)\n",
    "\n",
    "---------------"
   ]
  },
  {
   "cell_type": "code",
   "execution_count": null,
   "metadata": {},
   "outputs": [],
   "source": []
  },
  {
   "cell_type": "markdown",
   "metadata": {},
   "source": [
    "\n",
    "## VCformer: Variable Correlation Transformer with Inherent Lagged Correlation for Multivariate Time Series Forecasting \n",
    "\n",
    "19 May 2024 \n",
    "\n",
    "[Paper Link](https://arxiv.org/abs/2405.11470)\n",
    "\n",
    "[Implementation Link](https://github.com/CSyyn/VCformer)\n",
    "\n",
    "---------------"
   ]
  },
  {
   "cell_type": "code",
   "execution_count": null,
   "metadata": {},
   "outputs": [],
   "source": []
  },
  {
   "cell_type": "markdown",
   "metadata": {},
   "source": [
    "\n",
    "## Simba: Mamba-360: Survey of State Space Models as Transformer Alternative for Long Sequence Modelling: Methods, Applications, and Challenges \n",
    "\n",
    "24 Apr 2024 \n",
    "\n",
    "[Paper Link](https://arxiv.org/abs/2404.16112)\n",
    "\n",
    "[Implementation Link](https://github.com/badripatro/mamba360)\n",
    "\n",
    "---------------"
   ]
  },
  {
   "cell_type": "code",
   "execution_count": null,
   "metadata": {},
   "outputs": [],
   "source": []
  },
  {
   "cell_type": "markdown",
   "metadata": {},
   "source": [
    "\n",
    "## CPNet: Boosting MLPs with a Coarsening Strategy for Long-Term Time Series Forecasting \n",
    "\n",
    "6 May 2024 \n",
    "\n",
    "[Paper Link](https://arxiv.org/abs/2405.03199)\n",
    "\n",
    "[Implementation Link](https://github.com/nannanbian/cpnet)\n",
    "\n",
    "---------------"
   ]
  },
  {
   "cell_type": "code",
   "execution_count": null,
   "metadata": {},
   "outputs": [],
   "source": []
  },
  {
   "cell_type": "markdown",
   "metadata": {},
   "source": [
    "\n",
    "## RPMixer: Shaking Up Time Series Forecasting with Random Projections for Large Spatial-Temporal Data \n",
    "\n",
    "16 Feb 2024 \n",
    "\n",
    "[Paper Link](https://arxiv.org/abs/2402.10487)\n",
    "\n",
    "---------------"
   ]
  },
  {
   "cell_type": "code",
   "execution_count": null,
   "metadata": {},
   "outputs": [],
   "source": []
  },
  {
   "cell_type": "markdown",
   "metadata": {},
   "source": [
    "\n",
    "## Aaren: Attention as an RNN \n",
    "\n",
    "22 May 2024 \n",
    "\n",
    "[Paper Link](https://arxiv.org/abs/2405.13956)\n",
    "\n",
    "---------------"
   ]
  },
  {
   "cell_type": "code",
   "execution_count": null,
   "metadata": {},
   "outputs": [],
   "source": []
  },
  {
   "cell_type": "markdown",
   "metadata": {},
   "source": [
    "\n",
    "## DeformTime: Capturing Variable Dependencies with Deformable Attention for Time Series Forecasting \n",
    "\n",
    "11 Jun 2024 \n",
    "\n",
    "[Paper Link](https://arxiv.org/abs/2406.07438)\n",
    "\n",
    "[Implementation Link](https://github.com/ClaudiaShu/DeformTime)\n",
    "\n",
    "---------------"
   ]
  },
  {
   "cell_type": "code",
   "execution_count": null,
   "metadata": {},
   "outputs": [],
   "source": []
  },
  {
   "cell_type": "markdown",
   "metadata": {},
   "source": [
    "\n",
    "## GBRT: Effective Benchmarks for Optical Turbulence Modeling \n",
    "\n",
    "7 Jan 2024 \n",
    "\n",
    "[Paper Link](https://arxiv.org/abs/2401.03573)\n",
    "\n",
    "[Implementation Link](https://github.com/CDJellen/otbench)\n",
    "\n",
    "---------------"
   ]
  },
  {
   "cell_type": "code",
   "execution_count": null,
   "metadata": {},
   "outputs": [],
   "source": []
  },
  {
   "cell_type": "markdown",
   "metadata": {},
   "source": [
    "\n",
    "## Mean Window Forecast: Effective Benchmarks for Optical Turbulence Modeling \n",
    "\n",
    "7 Jan 2024 \n",
    "\n",
    "[Paper Link](https://arxiv.org/abs/2401.03573)\n",
    "\n",
    "[Implementation Link](https://github.com/CDJellen/otbench)\n",
    "\n",
    "---------------"
   ]
  },
  {
   "cell_type": "code",
   "execution_count": null,
   "metadata": {},
   "outputs": [],
   "source": []
  },
  {
   "cell_type": "markdown",
   "metadata": {},
   "source": [
    "\n",
    "## Minute Climatology: Effective Benchmarks for Optical Turbulence Modeling \n",
    "\n",
    "7 Jan 2024 \n",
    "\n",
    "[Paper Link](https://arxiv.org/abs/2401.03573)\n",
    "\n",
    "[Implementation Link](https://github.com/CDJellen/otbench)\n",
    "\n",
    "---------------"
   ]
  },
  {
   "cell_type": "code",
   "execution_count": null,
   "metadata": {},
   "outputs": [],
   "source": []
  },
  {
   "cell_type": "markdown",
   "metadata": {},
   "source": [
    "\n",
    "## RNN: Effective Benchmarks for Optical Turbulence Modeling \n",
    "\n",
    "7 Jan 2024 \n",
    "\n",
    "[Paper Link](https://arxiv.org/abs/2401.03573)\n",
    "\n",
    "[Implementation Link](https://github.com/CDJellen/otbench)\n",
    "\n",
    "---------------"
   ]
  },
  {
   "cell_type": "code",
   "execution_count": null,
   "metadata": {},
   "outputs": [],
   "source": []
  },
  {
   "cell_type": "markdown",
   "metadata": {},
   "source": [
    "\n",
    "## Climatology: Effective Benchmarks for Optical Turbulence Modeling \n",
    "\n",
    "7 Jan 2024 \n",
    "\n",
    "[Paper Link](https://arxiv.org/abs/2401.03573)\n",
    "\n",
    "[Implementation Link](https://github.com/CDJellen/otbench)\n",
    "\n",
    "---------------"
   ]
  },
  {
   "cell_type": "code",
   "execution_count": null,
   "metadata": {},
   "outputs": [],
   "source": []
  },
  {
   "cell_type": "markdown",
   "metadata": {},
   "source": [
    "\n",
    "## Linear Forecast: Effective Benchmarks for Optical Turbulence Modeling \n",
    "\n",
    "7 Jan 2024 \n",
    "\n",
    "[Paper Link](https://arxiv.org/abs/2401.03573)\n",
    "\n",
    "[Implementation Link](https://github.com/CDJellen/otbench)\n",
    "\n",
    "---------------"
   ]
  },
  {
   "cell_type": "code",
   "execution_count": null,
   "metadata": {},
   "outputs": [],
   "source": []
  },
  {
   "cell_type": "markdown",
   "metadata": {},
   "source": [
    "\n",
    "## Persistence: Effective Benchmarks for Optical Turbulence Modeling \n",
    "\n",
    "7 Jan 2024 \n",
    "\n",
    "[Paper Link](https://arxiv.org/abs/2401.03573)\n",
    "\n",
    "[Implementation Link](https://github.com/CDJellen/otbench)\n",
    "\n",
    "---------------"
   ]
  }
 ],
 "metadata": {
  "kernelspec": {
   "display_name": "python3",
   "language": "python",
   "name": "python3"
  },
  "widgets": {
   "application/vnd.jupyter.widget-state+json": {
    "state": {},
    "version_major": 2,
    "version_minor": 0
   }
  }
 },
 "nbformat": 4,
 "nbformat_minor": 4
}
